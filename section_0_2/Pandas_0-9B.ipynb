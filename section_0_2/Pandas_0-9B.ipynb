{
 "cells": [
  {
   "cell_type": "code",
   "execution_count": null,
   "metadata": {},
   "outputs": [],
   "source": [
    "import pandas as pd"
   ]
  },
  {
   "cell_type": "code",
   "execution_count": null,
   "metadata": {},
   "outputs": [],
   "source": [
    "# データの準備\n",
    "hand1 = {'id'  :['100','101','102','103','104','105','106','107','108','109'],\n",
    "    'gender'  :['男性','男性','女性','男性','女性','男性','女性','女性','男性','男性'],\n",
    "    'age'  :['30代','20代','10代','10代','40代','50代','40代','10代','20代','10代'],\n",
    "    'address'  :['東京','大阪','名古屋','北海道','東京','鹿児島','大阪','名古屋','東京','大阪'],\n",
    "    'hobby'  :['野球','ルーレット','じゃんけん','野球','ルーレット','野球','じゃんけん','ルーレット','野球','じゃんけん'],\n",
    "    'job'  :['IT','医療','弁護士','事務','事務','弁護士','IT','IT','IT','事務'],\n",
    "    'win'  :[20,21, 4,60,14,10,12,19,12,14],\n",
    "    'lose'  :[24,15,35, 3,35,29, 2,12,11,43],\n",
    "    'draw':[15,40,34,29,14, 4,22,17,12,10]}\n",
    "\n",
    "feature=['id','gender','age','address','hobby','job','win','lose','draw']\n"
   ]
  },
  {
   "cell_type": "code",
   "execution_count": null,
   "metadata": {},
   "outputs": [],
   "source": [
    "hand_df1 = pd.DataFrame(hand1)\n",
    "hand_df1.columns = feature\n",
    "hand_df1.columns.names = ['feature']"
   ]
  },
  {
   "cell_type": "code",
   "execution_count": null,
   "metadata": {},
   "outputs": [],
   "source": [
    "hand_df1.set_index('id', inplace = True)\n",
    "display(hand_df1)"
   ]
  },
  {
   "cell_type": "code",
   "execution_count": null,
   "metadata": {},
   "outputs": [],
   "source": [
    "for group, sub_df in hand_df1.groupby('age'):\n",
    "    display(group)\n",
    "    display(sub_df)"
   ]
  },
  {
   "cell_type": "code",
   "execution_count": null,
   "metadata": {},
   "outputs": [],
   "source": [
    "display(hand_df1.groupby('age').win.agg('min'))\n",
    "display(hand_df1.groupby('age').win.agg('max'))\n",
    "display(hand_df1.groupby('age').win.agg('mean'))"
   ]
  },
  {
   "cell_type": "code",
   "execution_count": null,
   "metadata": {},
   "outputs": [],
   "source": [
    "display(hand_df1.groupby('age').win.agg(['count', 'min', 'max', 'mean']))"
   ]
  },
  {
   "cell_type": "code",
   "execution_count": null,
   "metadata": {},
   "outputs": [],
   "source": [
    "display(hand_df1)\n",
    "display(hand_df1.groupby('age').agg('min'))"
   ]
  },
  {
   "cell_type": "markdown",
   "metadata": {},
   "source": [
    "# 3 週目"
   ]
  },
  {
   "cell_type": "code",
   "execution_count": null,
   "metadata": {},
   "outputs": [],
   "source": [
    "import pandas as pd"
   ]
  },
  {
   "cell_type": "code",
   "execution_count": null,
   "metadata": {},
   "outputs": [],
   "source": [
    "# データの準備\n",
    "hand1 = {'id'  :['100','101','102','103','104','105','106','107','108','109'],\n",
    "    'gender'  :['男性','男性','女性','男性','女性','男性','女性','女性','男性','男性'],\n",
    "    'age'  :['30代','20代','10代','10代','40代','50代','40代','10代','20代','10代'],\n",
    "    'address'  :['東京','大阪','名古屋','北海道','東京','鹿児島','大阪','名古屋','東京','大阪'],\n",
    "    'hobby'  :['野球','ルーレット','じゃんけん','野球','ルーレット','野球','じゃんけん','ルーレット','野球','じゃんけん'],\n",
    "    'job'  :['IT','医療','弁護士','事務','事務','弁護士','IT','IT','IT','事務'],\n",
    "    'win'  :[20,21, 4,60,14,10,12,19,12,14],\n",
    "    'lose'  :[24,15,35, 3,35,29, 2,12,11,43],\n",
    "    'draw':[15,40,34,29,14, 4,22,17,12,10]}\n",
    "\n",
    "feature=['id','gender','age','address','hobby','job','win','lose','draw']"
   ]
  },
  {
   "cell_type": "code",
   "execution_count": null,
   "metadata": {},
   "outputs": [],
   "source": [
    "hand_df1 = pd.DataFrame(hand1)\n",
    "hand_df1.columns = feature\n",
    "hand_df1.columns.names = ['feature']\n",
    "hand_df1.set_index('id', inplace = True)\n",
    "hand_df1"
   ]
  },
  {
   "cell_type": "code",
   "execution_count": null,
   "metadata": {},
   "outputs": [],
   "source": [
    "for group, sub_df in hand_df1.groupby('age'):\n",
    "    display(sub_df)"
   ]
  },
  {
   "cell_type": "code",
   "execution_count": null,
   "metadata": {},
   "outputs": [],
   "source": [
    "group_age = hand_df1.groupby('age')"
   ]
  },
  {
   "cell_type": "code",
   "execution_count": null,
   "metadata": {},
   "outputs": [],
   "source": [
    "display(type(group_age.win.agg('min')))\n",
    "display(group_age.win.agg('min'))\n",
    "display(group_age.win.agg('max'))\n",
    "display(group_age.win.agg('mean'))"
   ]
  },
  {
   "cell_type": "code",
   "execution_count": null,
   "metadata": {},
   "outputs": [],
   "source": [
    "display(group_age.win.agg(['count','min','max','mean']))"
   ]
  },
  {
   "cell_type": "code",
   "execution_count": null,
   "metadata": {},
   "outputs": [],
   "source": [
    "display(group_age.win.agg(['min']))"
   ]
  },
  {
   "cell_type": "markdown",
   "metadata": {},
   "source": [
    "# 4"
   ]
  },
  {
   "cell_type": "code",
   "execution_count": null,
   "metadata": {},
   "outputs": [],
   "source": [
    "import pandas as pd"
   ]
  },
  {
   "cell_type": "code",
   "execution_count": null,
   "metadata": {},
   "outputs": [],
   "source": [
    "hand1 = {'id'  :['100','101','102','103','104','105','106','107','108','109'],\n",
    "    'gender'  :['男性','男性','女性','男性','女性','男性','女性','女性','男性','男性'],\n",
    "    'age'  :['30代','20代','10代','10代','40代','50代','40代','10代','20代','10代'],\n",
    "    'address'  :['東京','大阪','名古屋','北海道','東京','鹿児島','大阪','名古屋','東京','大阪'],\n",
    "    'hobby'  :['野球','ルーレット','じゃんけん','野球','ルーレット','野球','じゃんけん','ルーレット','野球','じゃんけん'],\n",
    "    'job'  :['IT','医療','弁護士','事務','事務','弁護士','IT','IT','IT','事務'],\n",
    "    'win'  :[20,21, 4,60,14,10,12,19,12,14],\n",
    "    'lose'  :[24,15,35, 3,35,29, 2,12,11,43],\n",
    "    'draw':[15,40,34,29,14, 4,22,17,12,10]}\n",
    "\n",
    "feature=['id','gender','age','address','hobby','job','win','lose','draw']"
   ]
  },
  {
   "cell_type": "code",
   "execution_count": null,
   "metadata": {},
   "outputs": [],
   "source": [
    "hand_df = pd.DataFrame(hand1)\n",
    "hand_df.columns = feature"
   ]
  },
  {
   "cell_type": "code",
   "execution_count": null,
   "metadata": {},
   "outputs": [],
   "source": [
    "hand_df"
   ]
  },
  {
   "cell_type": "code",
   "execution_count": null,
   "metadata": {},
   "outputs": [],
   "source": [
    "for group, sub_df in hand_df.groupby('age'):\n",
    "    display(group)\n",
    "    display(sub_df)"
   ]
  },
  {
   "cell_type": "code",
   "execution_count": null,
   "metadata": {},
   "outputs": [],
   "source": [
    "hand_df.groupby('age').win.agg(['count','min', 'max','mean'])"
   ]
  },
  {
   "cell_type": "code",
   "execution_count": null,
   "metadata": {},
   "outputs": [],
   "source": [
    "g = hand_df.groupby('age')"
   ]
  },
  {
   "cell_type": "code",
   "execution_count": null,
   "metadata": {},
   "outputs": [],
   "source": [
    "g.corr()"
   ]
  },
  {
   "cell_type": "code",
   "execution_count": null,
   "metadata": {},
   "outputs": [],
   "source": [
    "g.describe()"
   ]
  },
  {
   "cell_type": "markdown",
   "metadata": {},
   "source": [
    "# 5"
   ]
  },
  {
   "cell_type": "code",
   "execution_count": 1,
   "metadata": {},
   "outputs": [],
   "source": [
    "import pandas as pd"
   ]
  },
  {
   "cell_type": "code",
   "execution_count": 2,
   "metadata": {},
   "outputs": [],
   "source": [
    "# データの準備\n",
    "hand1 = {'id'  :['100','101','102','103','104','105','106','107','108','109'],\n",
    "    'gender'  :['男性','男性','女性','男性','女性','男性','女性','女性','男性','男性'],\n",
    "    'age'  :['30代','20代','10代','10代','40代','50代','40代','10代','20代','10代'],\n",
    "    'address'  :['東京','大阪','名古屋','北海道','東京','鹿児島','大阪','名古屋','東京','大阪'],\n",
    "    'hobby'  :['野球','ルーレット','じゃんけん','野球','ルーレット','野球','じゃんけん','ルーレット','野球','じゃんけん'],\n",
    "    'job'  :['IT','医療','弁護士','事務','事務','弁護士','IT','IT','IT','事務'],\n",
    "    'win'  :[20,21, 4,60,14,10,12,19,12,14],\n",
    "    'lose'  :[24,15,35, 3,35,29, 2,12,11,43],\n",
    "    'draw':[15,40,34,29,14, 4,22,17,12,10]}\n",
    "\n",
    "feature=['id','gender','age','address','hobby','job','win','lose','draw']"
   ]
  },
  {
   "cell_type": "code",
   "execution_count": 3,
   "metadata": {},
   "outputs": [],
   "source": [
    "hand_df = pd.DataFrame(hand1)\n",
    "hand_df.columns = feature\n",
    "hand_df.columns.names = ['feature']"
   ]
  },
  {
   "cell_type": "code",
   "execution_count": 4,
   "metadata": {},
   "outputs": [
    {
     "data": {
      "text/html": [
       "<div>\n",
       "<style scoped>\n",
       "    .dataframe tbody tr th:only-of-type {\n",
       "        vertical-align: middle;\n",
       "    }\n",
       "\n",
       "    .dataframe tbody tr th {\n",
       "        vertical-align: top;\n",
       "    }\n",
       "\n",
       "    .dataframe thead th {\n",
       "        text-align: right;\n",
       "    }\n",
       "</style>\n",
       "<table border=\"1\" class=\"dataframe\">\n",
       "  <thead>\n",
       "    <tr style=\"text-align: right;\">\n",
       "      <th>feature</th>\n",
       "      <th>id</th>\n",
       "      <th>gender</th>\n",
       "      <th>age</th>\n",
       "      <th>address</th>\n",
       "      <th>hobby</th>\n",
       "      <th>job</th>\n",
       "      <th>win</th>\n",
       "      <th>lose</th>\n",
       "      <th>draw</th>\n",
       "    </tr>\n",
       "  </thead>\n",
       "  <tbody>\n",
       "    <tr>\n",
       "      <th>0</th>\n",
       "      <td>100</td>\n",
       "      <td>男性</td>\n",
       "      <td>30代</td>\n",
       "      <td>東京</td>\n",
       "      <td>野球</td>\n",
       "      <td>IT</td>\n",
       "      <td>20</td>\n",
       "      <td>24</td>\n",
       "      <td>15</td>\n",
       "    </tr>\n",
       "    <tr>\n",
       "      <th>1</th>\n",
       "      <td>101</td>\n",
       "      <td>男性</td>\n",
       "      <td>20代</td>\n",
       "      <td>大阪</td>\n",
       "      <td>ルーレット</td>\n",
       "      <td>医療</td>\n",
       "      <td>21</td>\n",
       "      <td>15</td>\n",
       "      <td>40</td>\n",
       "    </tr>\n",
       "    <tr>\n",
       "      <th>2</th>\n",
       "      <td>102</td>\n",
       "      <td>女性</td>\n",
       "      <td>10代</td>\n",
       "      <td>名古屋</td>\n",
       "      <td>じゃんけん</td>\n",
       "      <td>弁護士</td>\n",
       "      <td>4</td>\n",
       "      <td>35</td>\n",
       "      <td>34</td>\n",
       "    </tr>\n",
       "    <tr>\n",
       "      <th>3</th>\n",
       "      <td>103</td>\n",
       "      <td>男性</td>\n",
       "      <td>10代</td>\n",
       "      <td>北海道</td>\n",
       "      <td>野球</td>\n",
       "      <td>事務</td>\n",
       "      <td>60</td>\n",
       "      <td>3</td>\n",
       "      <td>29</td>\n",
       "    </tr>\n",
       "    <tr>\n",
       "      <th>4</th>\n",
       "      <td>104</td>\n",
       "      <td>女性</td>\n",
       "      <td>40代</td>\n",
       "      <td>東京</td>\n",
       "      <td>ルーレット</td>\n",
       "      <td>事務</td>\n",
       "      <td>14</td>\n",
       "      <td>35</td>\n",
       "      <td>14</td>\n",
       "    </tr>\n",
       "    <tr>\n",
       "      <th>5</th>\n",
       "      <td>105</td>\n",
       "      <td>男性</td>\n",
       "      <td>50代</td>\n",
       "      <td>鹿児島</td>\n",
       "      <td>野球</td>\n",
       "      <td>弁護士</td>\n",
       "      <td>10</td>\n",
       "      <td>29</td>\n",
       "      <td>4</td>\n",
       "    </tr>\n",
       "    <tr>\n",
       "      <th>6</th>\n",
       "      <td>106</td>\n",
       "      <td>女性</td>\n",
       "      <td>40代</td>\n",
       "      <td>大阪</td>\n",
       "      <td>じゃんけん</td>\n",
       "      <td>IT</td>\n",
       "      <td>12</td>\n",
       "      <td>2</td>\n",
       "      <td>22</td>\n",
       "    </tr>\n",
       "    <tr>\n",
       "      <th>7</th>\n",
       "      <td>107</td>\n",
       "      <td>女性</td>\n",
       "      <td>10代</td>\n",
       "      <td>名古屋</td>\n",
       "      <td>ルーレット</td>\n",
       "      <td>IT</td>\n",
       "      <td>19</td>\n",
       "      <td>12</td>\n",
       "      <td>17</td>\n",
       "    </tr>\n",
       "    <tr>\n",
       "      <th>8</th>\n",
       "      <td>108</td>\n",
       "      <td>男性</td>\n",
       "      <td>20代</td>\n",
       "      <td>東京</td>\n",
       "      <td>野球</td>\n",
       "      <td>IT</td>\n",
       "      <td>12</td>\n",
       "      <td>11</td>\n",
       "      <td>12</td>\n",
       "    </tr>\n",
       "    <tr>\n",
       "      <th>9</th>\n",
       "      <td>109</td>\n",
       "      <td>男性</td>\n",
       "      <td>10代</td>\n",
       "      <td>大阪</td>\n",
       "      <td>じゃんけん</td>\n",
       "      <td>事務</td>\n",
       "      <td>14</td>\n",
       "      <td>43</td>\n",
       "      <td>10</td>\n",
       "    </tr>\n",
       "  </tbody>\n",
       "</table>\n",
       "</div>"
      ],
      "text/plain": [
       "feature   id gender  age address  hobby  job  win  lose  draw\n",
       "0        100     男性  30代      東京     野球   IT   20    24    15\n",
       "1        101     男性  20代      大阪  ルーレット   医療   21    15    40\n",
       "2        102     女性  10代     名古屋  じゃんけん  弁護士    4    35    34\n",
       "3        103     男性  10代     北海道     野球   事務   60     3    29\n",
       "4        104     女性  40代      東京  ルーレット   事務   14    35    14\n",
       "5        105     男性  50代     鹿児島     野球  弁護士   10    29     4\n",
       "6        106     女性  40代      大阪  じゃんけん   IT   12     2    22\n",
       "7        107     女性  10代     名古屋  ルーレット   IT   19    12    17\n",
       "8        108     男性  20代      東京     野球   IT   12    11    12\n",
       "9        109     男性  10代      大阪  じゃんけん   事務   14    43    10"
      ]
     },
     "execution_count": 4,
     "metadata": {},
     "output_type": "execute_result"
    }
   ],
   "source": [
    "hand_df"
   ]
  },
  {
   "cell_type": "code",
   "execution_count": 30,
   "metadata": {},
   "outputs": [
    {
     "name": "stdout",
     "output_type": "stream",
     "text": [
      "10代\n",
      "feature   id gender  age address  hobby  job  win  lose  draw\n",
      "2        102     女性  10代     名古屋  じゃんけん  弁護士    4    35    34\n",
      "3        103     男性  10代     北海道     野球   事務   60     3    29\n",
      "7        107     女性  10代     名古屋  ルーレット   IT   19    12    17\n",
      "9        109     男性  10代      大阪  じゃんけん   事務   14    43    10\n"
     ]
    },
    {
     "data": {
      "text/plain": [
       "count     4.00\n",
       "mean     24.25\n",
       "max      60.00\n",
       "min       4.00\n",
       "Name: win, dtype: float64"
      ]
     },
     "metadata": {},
     "output_type": "display_data"
    },
    {
     "data": {
      "text/plain": [
       "pandas.core.series.Series"
      ]
     },
     "metadata": {},
     "output_type": "display_data"
    },
    {
     "data": {
      "text/plain": [
       "pandas.core.series.Series"
      ]
     },
     "metadata": {},
     "output_type": "display_data"
    },
    {
     "data": {
      "text/plain": [
       "pandas.core.frame.DataFrame"
      ]
     },
     "metadata": {},
     "output_type": "display_data"
    },
    {
     "name": "stdout",
     "output_type": "stream",
     "text": [
      "20代\n",
      "feature   id gender  age address  hobby job  win  lose  draw\n",
      "1        101     男性  20代      大阪  ルーレット  医療   21    15    40\n",
      "8        108     男性  20代      東京     野球  IT   12    11    12\n"
     ]
    },
    {
     "data": {
      "text/plain": [
       "count     2.0\n",
       "mean     16.5\n",
       "max      21.0\n",
       "min      12.0\n",
       "Name: win, dtype: float64"
      ]
     },
     "metadata": {},
     "output_type": "display_data"
    },
    {
     "data": {
      "text/plain": [
       "pandas.core.series.Series"
      ]
     },
     "metadata": {},
     "output_type": "display_data"
    },
    {
     "data": {
      "text/plain": [
       "pandas.core.series.Series"
      ]
     },
     "metadata": {},
     "output_type": "display_data"
    },
    {
     "data": {
      "text/plain": [
       "pandas.core.frame.DataFrame"
      ]
     },
     "metadata": {},
     "output_type": "display_data"
    },
    {
     "name": "stdout",
     "output_type": "stream",
     "text": [
      "30代\n",
      "feature   id gender  age address hobby job  win  lose  draw\n",
      "0        100     男性  30代      東京    野球  IT   20    24    15\n"
     ]
    },
    {
     "data": {
      "text/plain": [
       "count     1.0\n",
       "mean     20.0\n",
       "max      20.0\n",
       "min      20.0\n",
       "Name: win, dtype: float64"
      ]
     },
     "metadata": {},
     "output_type": "display_data"
    },
    {
     "data": {
      "text/plain": [
       "pandas.core.series.Series"
      ]
     },
     "metadata": {},
     "output_type": "display_data"
    },
    {
     "data": {
      "text/plain": [
       "pandas.core.series.Series"
      ]
     },
     "metadata": {},
     "output_type": "display_data"
    },
    {
     "data": {
      "text/plain": [
       "pandas.core.frame.DataFrame"
      ]
     },
     "metadata": {},
     "output_type": "display_data"
    },
    {
     "name": "stdout",
     "output_type": "stream",
     "text": [
      "40代\n",
      "feature   id gender  age address  hobby job  win  lose  draw\n",
      "4        104     女性  40代      東京  ルーレット  事務   14    35    14\n",
      "6        106     女性  40代      大阪  じゃんけん  IT   12     2    22\n"
     ]
    },
    {
     "data": {
      "text/plain": [
       "count     2.0\n",
       "mean     13.0\n",
       "max      14.0\n",
       "min      12.0\n",
       "Name: win, dtype: float64"
      ]
     },
     "metadata": {},
     "output_type": "display_data"
    },
    {
     "data": {
      "text/plain": [
       "pandas.core.series.Series"
      ]
     },
     "metadata": {},
     "output_type": "display_data"
    },
    {
     "data": {
      "text/plain": [
       "pandas.core.series.Series"
      ]
     },
     "metadata": {},
     "output_type": "display_data"
    },
    {
     "data": {
      "text/plain": [
       "pandas.core.frame.DataFrame"
      ]
     },
     "metadata": {},
     "output_type": "display_data"
    },
    {
     "name": "stdout",
     "output_type": "stream",
     "text": [
      "50代\n",
      "feature   id gender  age address hobby  job  win  lose  draw\n",
      "5        105     男性  50代     鹿児島    野球  弁護士   10    29     4\n"
     ]
    },
    {
     "data": {
      "text/plain": [
       "count     1.0\n",
       "mean     10.0\n",
       "max      10.0\n",
       "min      10.0\n",
       "Name: win, dtype: float64"
      ]
     },
     "metadata": {},
     "output_type": "display_data"
    },
    {
     "data": {
      "text/plain": [
       "pandas.core.series.Series"
      ]
     },
     "metadata": {},
     "output_type": "display_data"
    },
    {
     "data": {
      "text/plain": [
       "pandas.core.series.Series"
      ]
     },
     "metadata": {},
     "output_type": "display_data"
    },
    {
     "data": {
      "text/plain": [
       "pandas.core.frame.DataFrame"
      ]
     },
     "metadata": {},
     "output_type": "display_data"
    }
   ],
   "source": [
    "for group, sub_df  in  hand_df.groupby('age'):\n",
    "        print(group)\n",
    "        print(sub_df)\n",
    "        display(sub_df.win.agg(['count','mean','max','min']))\n",
    "        display(type(sub_df.win.agg(['count','mean','max','min'])))\n",
    "        display(type(sub_df['win']))       # Series\n",
    "        display(type(sub_df))                  # DataFrame\n",
    "        #hand_df.groupby('age')['win'] # DataFrame"
   ]
  },
  {
   "cell_type": "code",
   "execution_count": 28,
   "metadata": {},
   "outputs": [
    {
     "data": {
      "text/html": [
       "<div>\n",
       "<style scoped>\n",
       "    .dataframe tbody tr th:only-of-type {\n",
       "        vertical-align: middle;\n",
       "    }\n",
       "\n",
       "    .dataframe tbody tr th {\n",
       "        vertical-align: top;\n",
       "    }\n",
       "\n",
       "    .dataframe thead th {\n",
       "        text-align: right;\n",
       "    }\n",
       "</style>\n",
       "<table border=\"1\" class=\"dataframe\">\n",
       "  <thead>\n",
       "    <tr style=\"text-align: right;\">\n",
       "      <th></th>\n",
       "      <th>count</th>\n",
       "      <th>max</th>\n",
       "      <th>min</th>\n",
       "      <th>mean</th>\n",
       "    </tr>\n",
       "    <tr>\n",
       "      <th>age</th>\n",
       "      <th></th>\n",
       "      <th></th>\n",
       "      <th></th>\n",
       "      <th></th>\n",
       "    </tr>\n",
       "  </thead>\n",
       "  <tbody>\n",
       "    <tr>\n",
       "      <th>10代</th>\n",
       "      <td>4</td>\n",
       "      <td>60</td>\n",
       "      <td>4</td>\n",
       "      <td>24.25</td>\n",
       "    </tr>\n",
       "    <tr>\n",
       "      <th>20代</th>\n",
       "      <td>2</td>\n",
       "      <td>21</td>\n",
       "      <td>12</td>\n",
       "      <td>16.50</td>\n",
       "    </tr>\n",
       "    <tr>\n",
       "      <th>30代</th>\n",
       "      <td>1</td>\n",
       "      <td>20</td>\n",
       "      <td>20</td>\n",
       "      <td>20.00</td>\n",
       "    </tr>\n",
       "    <tr>\n",
       "      <th>40代</th>\n",
       "      <td>2</td>\n",
       "      <td>14</td>\n",
       "      <td>12</td>\n",
       "      <td>13.00</td>\n",
       "    </tr>\n",
       "    <tr>\n",
       "      <th>50代</th>\n",
       "      <td>1</td>\n",
       "      <td>10</td>\n",
       "      <td>10</td>\n",
       "      <td>10.00</td>\n",
       "    </tr>\n",
       "  </tbody>\n",
       "</table>\n",
       "</div>"
      ],
      "text/plain": [
       "     count  max  min   mean\n",
       "age                        \n",
       "10代      4   60    4  24.25\n",
       "20代      2   21   12  16.50\n",
       "30代      1   20   20  20.00\n",
       "40代      2   14   12  13.00\n",
       "50代      1   10   10  10.00"
      ]
     },
     "metadata": {},
     "output_type": "display_data"
    },
    {
     "data": {
      "text/plain": [
       "pandas.core.frame.DataFrame"
      ]
     },
     "metadata": {},
     "output_type": "display_data"
    },
    {
     "data": {
      "text/plain": [
       "pandas.core.groupby.generic.SeriesGroupBy"
      ]
     },
     "metadata": {},
     "output_type": "display_data"
    }
   ],
   "source": [
    "display(hand_df.groupby('age')['win'].agg(['count','max','min','mean']))\n",
    "display(type(hand_df.groupby('age')['win'].agg(['count','max','min','mean'])))\n",
    "display(type(hand_df.groupby('age')['win']))"
   ]
  },
  {
   "cell_type": "code",
   "execution_count": null,
   "metadata": {},
   "outputs": [],
   "source": []
  }
 ],
 "metadata": {
  "kernelspec": {
   "display_name": "Python 3",
   "language": "python",
   "name": "python3"
  },
  "language_info": {
   "codemirror_mode": {
    "name": "ipython",
    "version": 3
   },
   "file_extension": ".py",
   "mimetype": "text/x-python",
   "name": "python",
   "nbconvert_exporter": "python",
   "pygments_lexer": "ipython3",
   "version": "3.7.3"
  }
 },
 "nbformat": 4,
 "nbformat_minor": 2
}
