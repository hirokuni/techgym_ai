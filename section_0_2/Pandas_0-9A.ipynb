{
 "cells": [
  {
   "cell_type": "code",
   "execution_count": null,
   "metadata": {},
   "outputs": [],
   "source": [
    "import pandas as pd"
   ]
  },
  {
   "cell_type": "code",
   "execution_count": null,
   "metadata": {},
   "outputs": [],
   "source": [
    "# データの準備\n",
    "hand1 = {'id'  :['100','101','102','103','104','105','106','107','108','109'],\n",
    "    'gender'  :['男性','男性','女性','男性','女性','男性','女性','女性','男性','男性'],\n",
    "    'age'  :['30代','20代','10代','10代','40代','50代','40代','10代','20代','10代'],\n",
    "    'address'  :['東京','大阪','名古屋','北海道','東京','鹿児島','大阪','名古屋','東京','大阪'],\n",
    "    'hobby'  :['野球','ルーレット','じゃんけん','野球','ルーレット','野球','じゃんけん','ルーレット','野球','じゃんけん'],\n",
    "    'job'  :['IT','医療','弁護士','事務','事務','弁護士','IT','IT','IT','事務'],\n",
    "    'win'  :[20,21, 4,60,14,10,12,19,12,14],\n",
    "    'lose'  :[24,15,35, 3,35,29, 2,12,11,43],\n",
    "    'draw':[15,40,34,29,14, 4,22,17,12,10]}\n",
    "hand_df1 = pd.DataFrame(hand1)\n",
    "hand_df1.columns =['id','gender','age','address','hobby','job','win','lose','draw']\n",
    "hand_df1.columns.names = ['feature']\n",
    "hand_df1.set_index('id', inplace = True)"
   ]
  },
  {
   "cell_type": "code",
   "execution_count": null,
   "metadata": {},
   "outputs": [],
   "source": [
    "display(hand_df1)"
   ]
  },
  {
   "cell_type": "code",
   "execution_count": null,
   "metadata": {},
   "outputs": [],
   "source": [
    "hand_df1.age.value_counts()"
   ]
  },
  {
   "cell_type": "code",
   "execution_count": null,
   "metadata": {},
   "outputs": [],
   "source": [
    "age_gp = hand_df1.groupby(['age'])\n",
    "display(age_gp.groups)"
   ]
  },
  {
   "cell_type": "code",
   "execution_count": null,
   "metadata": {},
   "outputs": [],
   "source": [
    "hand_df1.groupby(['age']).size()"
   ]
  },
  {
   "cell_type": "code",
   "execution_count": null,
   "metadata": {},
   "outputs": [],
   "source": [
    "hand_df1.groupby(['age']).mean().win"
   ]
  },
  {
   "cell_type": "code",
   "execution_count": null,
   "metadata": {},
   "outputs": [],
   "source": [
    "hand_df1.groupby(['address']).mean().win"
   ]
  },
  {
   "cell_type": "markdown",
   "metadata": {},
   "source": [
    "# 4"
   ]
  },
  {
   "cell_type": "code",
   "execution_count": null,
   "metadata": {},
   "outputs": [],
   "source": [
    "import pandas as pd"
   ]
  },
  {
   "cell_type": "code",
   "execution_count": null,
   "metadata": {},
   "outputs": [],
   "source": [
    "# データの準備\n",
    "hand1 = {'id'  :['100','101','102','103','104','105','106','107','108','109'],\n",
    "    'gender'  :['男性','男性','女性','男性','女性','男性','女性','女性','男性','男性'],\n",
    "    'age'  :['30代','20代','10代','10代','40代','50代','40代','10代','20代','10代'],\n",
    "    'address'  :['東京','大阪','名古屋','北海道','東京','鹿児島','大阪','名古屋','東京','大阪'],\n",
    "    'hobby'  :['野球','ルーレット','じゃんけん','野球','ルーレット','野球','じゃんけん','ルーレット','野球','じゃんけん'],\n",
    "    'job'  :['IT','医療','弁護士','事務','事務','弁護士','IT','IT','IT','事務'],\n",
    "    'win'  :[20,21, 4,60,14,10,12,19,12,14],\n",
    "    'lose'  :[24,15,35, 3,35,29, 2,12,11,43],\n",
    "    'draw':[15,40,34,29,14, 4,22,17,12,10]}\n",
    "hand_df1 = pd.DataFrame(hand1)\n",
    "hand_df1.columns =['id','gender','age','address','hobby','job','win','lose','draw']\n",
    "hand_df1.columns.names = ['feature']\n",
    "hand_df1.set_index('id', inplace = True)"
   ]
  },
  {
   "cell_type": "code",
   "execution_count": null,
   "metadata": {},
   "outputs": [],
   "source": [
    "age_size = hand_df1.groupby('age').size()\n",
    "display(age_size)\n",
    "display(type(age_size))\n",
    "display(type(hand_df1.groupby('age')))"
   ]
  },
  {
   "cell_type": "code",
   "execution_count": null,
   "metadata": {},
   "outputs": [],
   "source": [
    "hand_df1.groupby('age').win.mean()"
   ]
  },
  {
   "cell_type": "code",
   "execution_count": null,
   "metadata": {},
   "outputs": [],
   "source": [
    "for column_data, group in  hand_df1.groupby('age'):\n",
    "    display(column_data)\n",
    "    display(group)\n",
    "    display(group.groupby('address').win.mean())"
   ]
  },
  {
   "cell_type": "markdown",
   "metadata": {},
   "source": [
    "# 5"
   ]
  },
  {
   "cell_type": "code",
   "execution_count": 1,
   "metadata": {},
   "outputs": [],
   "source": [
    "import pandas as pd"
   ]
  },
  {
   "cell_type": "code",
   "execution_count": 2,
   "metadata": {},
   "outputs": [],
   "source": [
    "# データの準備\n",
    "hand1 = {'id'  :['100','101','102','103','104','105','106','107','108','109'],\n",
    "    'gender'  :['男性','男性','女性','男性','女性','男性','女性','女性','男性','男性'],\n",
    "    'age'  :['30代','20代','10代','10代','40代','50代','40代','10代','20代','10代'],\n",
    "    'address'  :['東京','大阪','名古屋','北海道','東京','鹿児島','大阪','名古屋','東京','大阪'],\n",
    "    'hobby'  :['野球','ルーレット','じゃんけん','野球','ルーレット','野球','じゃんけん','ルーレット','野球','じゃんけん'],\n",
    "    'job'  :['IT','医療','弁護士','事務','事務','弁護士','IT','IT','IT','事務'],\n",
    "    'win'  :[20,21, 4,60,14,10,12,19,12,14],\n",
    "    'lose'  :[24,15,35, 3,35,29, 2,12,11,43],\n",
    "    'draw':[15,40,34,29,14, 4,22,17,12,10]}"
   ]
  },
  {
   "cell_type": "code",
   "execution_count": 3,
   "metadata": {},
   "outputs": [],
   "source": [
    "hand_df1 = pd.DataFrame(hand1)\n",
    "hand_df1.columns =['id','gender','age','address','hobby','job','win','lose','draw']\n",
    "hand_df1.columns.names = ['feature']\n",
    "hand_df1.set_index('id', inplace = True)"
   ]
  },
  {
   "cell_type": "code",
   "execution_count": 4,
   "metadata": {},
   "outputs": [],
   "source": [
    "pd.set_option('display.max_rows', 15)"
   ]
  },
  {
   "cell_type": "code",
   "execution_count": 5,
   "metadata": {},
   "outputs": [
    {
     "data": {
      "text/html": [
       "<div>\n",
       "<style scoped>\n",
       "    .dataframe tbody tr th:only-of-type {\n",
       "        vertical-align: middle;\n",
       "    }\n",
       "\n",
       "    .dataframe tbody tr th {\n",
       "        vertical-align: top;\n",
       "    }\n",
       "\n",
       "    .dataframe thead th {\n",
       "        text-align: right;\n",
       "    }\n",
       "</style>\n",
       "<table border=\"1\" class=\"dataframe\">\n",
       "  <thead>\n",
       "    <tr style=\"text-align: right;\">\n",
       "      <th>feature</th>\n",
       "      <th>gender</th>\n",
       "      <th>age</th>\n",
       "      <th>address</th>\n",
       "      <th>hobby</th>\n",
       "      <th>job</th>\n",
       "      <th>win</th>\n",
       "      <th>lose</th>\n",
       "      <th>draw</th>\n",
       "    </tr>\n",
       "    <tr>\n",
       "      <th>id</th>\n",
       "      <th></th>\n",
       "      <th></th>\n",
       "      <th></th>\n",
       "      <th></th>\n",
       "      <th></th>\n",
       "      <th></th>\n",
       "      <th></th>\n",
       "      <th></th>\n",
       "    </tr>\n",
       "  </thead>\n",
       "  <tbody>\n",
       "    <tr>\n",
       "      <th>100</th>\n",
       "      <td>男性</td>\n",
       "      <td>30代</td>\n",
       "      <td>東京</td>\n",
       "      <td>野球</td>\n",
       "      <td>IT</td>\n",
       "      <td>20</td>\n",
       "      <td>24</td>\n",
       "      <td>15</td>\n",
       "    </tr>\n",
       "    <tr>\n",
       "      <th>101</th>\n",
       "      <td>男性</td>\n",
       "      <td>20代</td>\n",
       "      <td>大阪</td>\n",
       "      <td>ルーレット</td>\n",
       "      <td>医療</td>\n",
       "      <td>21</td>\n",
       "      <td>15</td>\n",
       "      <td>40</td>\n",
       "    </tr>\n",
       "    <tr>\n",
       "      <th>102</th>\n",
       "      <td>女性</td>\n",
       "      <td>10代</td>\n",
       "      <td>名古屋</td>\n",
       "      <td>じゃんけん</td>\n",
       "      <td>弁護士</td>\n",
       "      <td>4</td>\n",
       "      <td>35</td>\n",
       "      <td>34</td>\n",
       "    </tr>\n",
       "    <tr>\n",
       "      <th>103</th>\n",
       "      <td>男性</td>\n",
       "      <td>10代</td>\n",
       "      <td>北海道</td>\n",
       "      <td>野球</td>\n",
       "      <td>事務</td>\n",
       "      <td>60</td>\n",
       "      <td>3</td>\n",
       "      <td>29</td>\n",
       "    </tr>\n",
       "    <tr>\n",
       "      <th>104</th>\n",
       "      <td>女性</td>\n",
       "      <td>40代</td>\n",
       "      <td>東京</td>\n",
       "      <td>ルーレット</td>\n",
       "      <td>事務</td>\n",
       "      <td>14</td>\n",
       "      <td>35</td>\n",
       "      <td>14</td>\n",
       "    </tr>\n",
       "    <tr>\n",
       "      <th>105</th>\n",
       "      <td>男性</td>\n",
       "      <td>50代</td>\n",
       "      <td>鹿児島</td>\n",
       "      <td>野球</td>\n",
       "      <td>弁護士</td>\n",
       "      <td>10</td>\n",
       "      <td>29</td>\n",
       "      <td>4</td>\n",
       "    </tr>\n",
       "    <tr>\n",
       "      <th>106</th>\n",
       "      <td>女性</td>\n",
       "      <td>40代</td>\n",
       "      <td>大阪</td>\n",
       "      <td>じゃんけん</td>\n",
       "      <td>IT</td>\n",
       "      <td>12</td>\n",
       "      <td>2</td>\n",
       "      <td>22</td>\n",
       "    </tr>\n",
       "    <tr>\n",
       "      <th>107</th>\n",
       "      <td>女性</td>\n",
       "      <td>10代</td>\n",
       "      <td>名古屋</td>\n",
       "      <td>ルーレット</td>\n",
       "      <td>IT</td>\n",
       "      <td>19</td>\n",
       "      <td>12</td>\n",
       "      <td>17</td>\n",
       "    </tr>\n",
       "    <tr>\n",
       "      <th>108</th>\n",
       "      <td>男性</td>\n",
       "      <td>20代</td>\n",
       "      <td>東京</td>\n",
       "      <td>野球</td>\n",
       "      <td>IT</td>\n",
       "      <td>12</td>\n",
       "      <td>11</td>\n",
       "      <td>12</td>\n",
       "    </tr>\n",
       "    <tr>\n",
       "      <th>109</th>\n",
       "      <td>男性</td>\n",
       "      <td>10代</td>\n",
       "      <td>大阪</td>\n",
       "      <td>じゃんけん</td>\n",
       "      <td>事務</td>\n",
       "      <td>14</td>\n",
       "      <td>43</td>\n",
       "      <td>10</td>\n",
       "    </tr>\n",
       "  </tbody>\n",
       "</table>\n",
       "</div>"
      ],
      "text/plain": [
       "feature gender  age address  hobby  job  win  lose  draw\n",
       "id                                                      \n",
       "100         男性  30代      東京     野球   IT   20    24    15\n",
       "101         男性  20代      大阪  ルーレット   医療   21    15    40\n",
       "102         女性  10代     名古屋  じゃんけん  弁護士    4    35    34\n",
       "103         男性  10代     北海道     野球   事務   60     3    29\n",
       "104         女性  40代      東京  ルーレット   事務   14    35    14\n",
       "105         男性  50代     鹿児島     野球  弁護士   10    29     4\n",
       "106         女性  40代      大阪  じゃんけん   IT   12     2    22\n",
       "107         女性  10代     名古屋  ルーレット   IT   19    12    17\n",
       "108         男性  20代      東京     野球   IT   12    11    12\n",
       "109         男性  10代      大阪  じゃんけん   事務   14    43    10"
      ]
     },
     "execution_count": 5,
     "metadata": {},
     "output_type": "execute_result"
    }
   ],
   "source": [
    "hand_df1"
   ]
  },
  {
   "cell_type": "code",
   "execution_count": 12,
   "metadata": {},
   "outputs": [
    {
     "data": {
      "text/plain": [
       "age\n",
       "10代    4\n",
       "20代    2\n",
       "30代    1\n",
       "40代    2\n",
       "50代    1\n",
       "dtype: int64"
      ]
     },
     "execution_count": 12,
     "metadata": {},
     "output_type": "execute_result"
    }
   ],
   "source": [
    "hand_df1.groupby('age').size()"
   ]
  },
  {
   "cell_type": "code",
   "execution_count": 14,
   "metadata": {},
   "outputs": [
    {
     "data": {
      "text/plain": [
       "age\n",
       "10代    24.25\n",
       "20代    16.50\n",
       "30代    20.00\n",
       "40代    13.00\n",
       "50代    10.00\n",
       "Name: win, dtype: float64"
      ]
     },
     "execution_count": 14,
     "metadata": {},
     "output_type": "execute_result"
    }
   ],
   "source": [
    "hand_df1.groupby('age')['win'].mean()"
   ]
  },
  {
   "cell_type": "code",
   "execution_count": 25,
   "metadata": {},
   "outputs": [
    {
     "data": {
      "text/plain": [
       "age  address\n",
       "10代  北海道        60.0\n",
       "     名古屋        11.5\n",
       "     大阪         14.0\n",
       "20代  大阪         21.0\n",
       "     東京         12.0\n",
       "30代  東京         20.0\n",
       "40代  大阪         12.0\n",
       "     東京         14.0\n",
       "50代  鹿児島        10.0\n",
       "Name: win, dtype: float64"
      ]
     },
     "execution_count": 25,
     "metadata": {},
     "output_type": "execute_result"
    }
   ],
   "source": [
    "hand_df1.groupby(['age','address']).win.mean()"
   ]
  },
  {
   "cell_type": "code",
   "execution_count": null,
   "metadata": {},
   "outputs": [],
   "source": []
  }
 ],
 "metadata": {
  "kernelspec": {
   "display_name": "Python 3",
   "language": "python",
   "name": "python3"
  },
  "language_info": {
   "codemirror_mode": {
    "name": "ipython",
    "version": 3
   },
   "file_extension": ".py",
   "mimetype": "text/x-python",
   "name": "python",
   "nbconvert_exporter": "python",
   "pygments_lexer": "ipython3",
   "version": "3.7.3"
  }
 },
 "nbformat": 4,
 "nbformat_minor": 2
}
