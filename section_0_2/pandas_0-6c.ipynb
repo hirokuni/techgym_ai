{
 "cells": [
  {
   "cell_type": "markdown",
   "metadata": {},
   "source": [
    "import pandas as pd"
   ]
  },
  {
   "cell_type": "code",
   "execution_count": null,
   "metadata": {},
   "outputs": [],
   "source": [
    "num = ['0','1','2','3','4','5','6','7','8','9']\n",
    "feature1 =['gender','age','win','lose','draw']\n",
    "\n",
    "hand = {'性別'  :['男性','男性','女性','男性','女性','男性','女性','女性','男性','男性'],\n",
    "        '年齢'  :['30代','20代','10代','10代','40代','50代','40代','10代','20代','10代'],\n",
    "        '勝ち'  :[20,21, 4,60,14,10,12,19,12,14],\n",
    "        '負け'  :[24,15,35, 3,35,29, 2,12,11,43],\n",
    "        'あいこ':[15,40,34,29,14, 4,22,17,12,10]}\n",
    "hand_df1 = pd.DataFrame(hand)\n",
    "hand_df1.columns = feature1\n",
    "hand_df1.columns.names=['feature']\n",
    "id1 = ['100','101','102','103','104','105','106','107','108','109']\n",
    "hand_df1['id'] = id1\n",
    "hand_df1.set_index('id', inplace=True)\n",
    "display(hand_df1)"
   ]
  },
  {
   "cell_type": "code",
   "execution_count": null,
   "metadata": {},
   "outputs": [],
   "source": [
    "feature2 =['address','hobby','job']\n",
    "\n",
    "hand2 = {'住所'  :['東京','大阪','名古屋','北海道','東京','鹿児島','大阪','名古屋','東京','大阪'],\n",
    "        '趣味'  :['野球','賭博','じゃんけん','野球','賭博','野球','じゃんけん','賭博','野球','じゃんけん'],\n",
    "        '仕事'  :['IT','医療','弁護士','事務','事務','弁護士','IT','IT','IT','事務']}\n",
    "id2 = ['100','101','102','103','110','111','106','113','108','114']\n",
    "\n",
    "hand_df2 = pd.DataFrame(hand2)\n",
    "hand_df2.columns = feature2\n",
    "hand_df2.columns.names = ['feature']\n",
    "hand_df2['id'] = id2\n",
    "hand_df2.set_index('id', inplace=True)\n",
    "display(hand_df2)"
   ]
  },
  {
   "cell_type": "code",
   "execution_count": null,
   "metadata": {},
   "outputs": [],
   "source": [
    "pd.concat([hand_df1, hand_df2], sort=True)"
   ]
  },
  {
   "cell_type": "markdown",
   "metadata": {},
   "source": [
    "# 練習"
   ]
  },
  {
   "cell_type": "code",
   "execution_count": null,
   "metadata": {},
   "outputs": [],
   "source": [
    "# mergeでTry\n",
    "pd.merge(hand_df1, hand_df2, how='outer', on='id')"
   ]
  },
  {
   "cell_type": "markdown",
   "metadata": {},
   "source": [
    "# 3週目"
   ]
  },
  {
   "cell_type": "code",
   "execution_count": null,
   "metadata": {},
   "outputs": [],
   "source": [
    "import pandas as pd"
   ]
  },
  {
   "cell_type": "code",
   "execution_count": null,
   "metadata": {},
   "outputs": [],
   "source": [
    "feature1 =['gender','age','win','lose','draw']\n",
    "hand1 = {'性別'  :['男性','男性','女性','男性','女性','男性','女性','女性','男性','男性'],\n",
    "        '年齢'  :['30代','20代','10代','10代','40代','50代','40代','10代','20代','10代'],\n",
    "        '勝ち'  :[20,21, 4,60,14,10,12,19,12,14],\n",
    "        '負け'  :[24,15,35, 3,35,29, 2,12,11,43],\n",
    "        'あいこ':[15,40,34,29,14, 4,22,17,12,10]}\n",
    "id1 = ['100','101','102','103','104','105','106','107','108','109']\n",
    "\n",
    "feature2 =['address','hobby','job']\n",
    "hand2 = {'住所'  :['東京','大阪','名古屋','北海道','東京','鹿児島','大阪','名古屋','東京','大阪'],\n",
    "        '趣味'  :['野球','賭博','じゃんけん','野球','賭博','野球','じゃんけん','賭博','野球','じゃんけん'],\n",
    "        '仕事'  :['IT','医療','弁護士','事務','事務','弁護士','IT','IT','IT','事務']}\n",
    "id2 = ['100','101','102','103','110','111','106','113','108','114']"
   ]
  },
  {
   "cell_type": "code",
   "execution_count": null,
   "metadata": {},
   "outputs": [],
   "source": [
    "hand_df1 = pd.DataFrame(hand1)\n",
    "hand_df1.columns = feature1\n",
    "hand_df1.columns.names = ['feature']\n",
    "hand_df1.index = id1\n",
    "hand_df1.index.names = ['id']\n",
    "\n",
    "hand_df2 = pd.DataFrame(hand2)\n",
    "hand_df2.columns = feature2\n",
    "hand_df2.columns.names = ['feature']\n",
    "hand_df2.index = id2\n",
    "hand_df2.index.names = ['id']"
   ]
  },
  {
   "cell_type": "code",
   "execution_count": null,
   "metadata": {},
   "outputs": [],
   "source": [
    "display(hand_df1)\n",
    "display(hand_df2)"
   ]
  },
  {
   "cell_type": "code",
   "execution_count": null,
   "metadata": {},
   "outputs": [],
   "source": [
    "pd.concat([hand_df1, hand_df2], sort=True)"
   ]
  },
  {
   "cell_type": "code",
   "execution_count": null,
   "metadata": {},
   "outputs": [],
   "source": [
    "pd.concat([hand_df1, hand_df2], sort=False)"
   ]
  },
  {
   "cell_type": "markdown",
   "metadata": {},
   "source": [
    "# 4"
   ]
  },
  {
   "cell_type": "code",
   "execution_count": null,
   "metadata": {},
   "outputs": [],
   "source": [
    "import pandas as pd"
   ]
  },
  {
   "cell_type": "code",
   "execution_count": null,
   "metadata": {},
   "outputs": [],
   "source": [
    "feature1 =['gender','age','win','lose','draw']\n",
    "hand1 = {'性別'  :['男性','男性','女性','男性','女性','男性','女性','女性','男性','男性'],\n",
    "        '年齢'  :['30代','20代','10代','10代','40代','50代','40代','10代','20代','10代'],\n",
    "        '勝ち'  :[20,21, 4,60,14,10,12,19,12,14],\n",
    "        '負け'  :[24,15,35, 3,35,29, 2,12,11,43],\n",
    "        'あいこ':[15,40,34,29,14, 4,22,17,12,10]}\n",
    "id1 = ['100','101','102','103','104','105','106','107','108','109']\n",
    "\n",
    "feature2 =['address','hobby','job']\n",
    "hand2 = {'住所'  :['東京','大阪','名古屋','北海道','東京','鹿児島','大阪','名古屋','東京','大阪'],\n",
    "        '趣味'  :['野球','賭博','じゃんけん','野球','賭博','野球','じゃんけん','賭博','野球','じゃんけん'],\n",
    "        '仕事'  :['IT','医療','弁護士','事務','事務','弁護士','IT','IT','IT','事務']}\n",
    "id2 = ['100','101','102','103','110','111','106','113','108','114']"
   ]
  },
  {
   "cell_type": "code",
   "execution_count": null,
   "metadata": {},
   "outputs": [],
   "source": [
    "hand_df1 = pd.DataFrame(hand1)\n",
    "hand_df1.columns = feature1\n",
    "hand_df1.columns.names = ['feature']\n",
    "hand_df1.index = id1\n",
    "hand_df1.index.names = ['id']\n",
    "hand_df2 = pd.DataFrame(hand2)\n",
    "hand_df2.columns = feature2\n",
    "hand_df2.columns.names = ['feature']\n",
    "hand_df2.index = id2\n",
    "hand_df2.index.names = ['id']"
   ]
  },
  {
   "cell_type": "code",
   "execution_count": null,
   "metadata": {},
   "outputs": [],
   "source": [
    "pd.concat([hand_df1, hand_df2], sort=False)"
   ]
  },
  {
   "cell_type": "code",
   "execution_count": null,
   "metadata": {},
   "outputs": [],
   "source": [
    "pd.concat([hand_df1, hand_df2], sort=True)"
   ]
  },
  {
   "cell_type": "code",
   "execution_count": null,
   "metadata": {},
   "outputs": [],
   "source": []
  }
 ],
 "metadata": {
  "kernelspec": {
   "display_name": "Python 3",
   "language": "python",
   "name": "python3"
  },
  "language_info": {
   "codemirror_mode": {
    "name": "ipython",
    "version": 3
   },
   "file_extension": ".py",
   "mimetype": "text/x-python",
   "name": "python",
   "nbconvert_exporter": "python",
   "pygments_lexer": "ipython3",
   "version": "3.7.3"
  }
 },
 "nbformat": 4,
 "nbformat_minor": 2
}
