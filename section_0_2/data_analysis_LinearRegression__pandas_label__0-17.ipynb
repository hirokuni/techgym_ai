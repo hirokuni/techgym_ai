{
 "cells": [
  {
   "cell_type": "code",
   "execution_count": null,
   "metadata": {},
   "outputs": [],
   "source": [
    "import pandas as pd\n",
    "import urllib\n",
    "import seaborn as sns\n",
    "import matplotlib.pyplot as plt\n",
    "%matplotlib inline\n",
    "from sklearn import linear_model\n",
    "import scipy as sp\n",
    "import numpy as np"
   ]
  },
  {
   "cell_type": "code",
   "execution_count": null,
   "metadata": {},
   "outputs": [],
   "source": [
    "# データの読み込み\n",
    "data = \"http://archive.ics.uci.edu/ml/machine-learning-databases/wine/wine.data\"\n",
    "wine = pd.read_csv(data, header=None)\n",
    "pd.set_option('display.max_rows', 5)\n",
    "display(wine)\n",
    "txt= \"http://archive.ics.uci.edu/ml/machine-learning-databases/wine/wine.names\"\n",
    "urllib.request.urlretrieve(txt, './wine.names')"
   ]
  },
  {
   "cell_type": "code",
   "execution_count": null,
   "metadata": {},
   "outputs": [],
   "source": [
    "with open('./wine.names') as f:\n",
    "    for line in f:\n",
    "        print(line)"
   ]
  },
  {
   "cell_type": "code",
   "execution_count": null,
   "metadata": {},
   "outputs": [],
   "source": [
    "wine.columns = ['class','Alcohol','Malic_acid','Ash',\n",
    "                'Alcalinity_of_ash','Magnesium','Total_phenols',\n",
    "                'Flavanoids','Nonflavanoid_phenols','Proanthocyanins',\n",
    "                'Color_intensity','Hue','OD280_OD315','Proline']\n",
    "display(wine)"
   ]
  },
  {
   "cell_type": "code",
   "execution_count": null,
   "metadata": {},
   "outputs": [],
   "source": [
    "# 説明変数\n",
    "X = wine[['Alcohol']].values"
   ]
  },
  {
   "cell_type": "code",
   "execution_count": null,
   "metadata": {},
   "outputs": [],
   "source": [
    "# 表の準備\n",
    "df = pd.DataFrame(columns =  [\"回帰係数\", \"切片\", \"決定係数\", \"相関係数\", \"有意確率\"])\n",
    "df.columns.name = \"Alcohol\"\n",
    "df.index.name = \"説明変数\"\n",
    "\n",
    "# LinearRegressionのインスタンス化\n",
    "REG = linear_model.LinearRegression()\n",
    "\n",
    "# 目的変数の名前\n",
    "Y_Names = ['Malic_acid','Ash','Total_phenols','Color_intensity']\n",
    "\n",
    "# 相関係数と相関が強いデータの名前\n",
    "corr = 0\n",
    "corr_name = \"\"\n",
    "\n",
    "# graph size\n",
    "plt.figure(figsize=(10,10))\n",
    "    \n",
    "for i, name in enumerate(Y_Names):\n",
    "    #目的変数\n",
    "    Y = wine[name]\n",
    "    \n",
    "    REG.fit(X, Y)\n",
    "    \n",
    "    corr_, p = sp.stats.pearsonr(wine['Alcohol'].values, wine[name].values)\n",
    "     \n",
    "    df.loc[name] = np.array([REG.coef_, REG.intercept_,  REG.score(X, Y), corr_, p])\n",
    "    \n",
    "    if abs(corr) < abs(corr_) :\n",
    "        corr = corr_\n",
    "        corr_name = name\n",
    "        \n",
    "    # graph\n",
    "    plt.subplot(2, 2, i+1)\n",
    "    plt.xlabel('Explained variable: Alcohol')\n",
    "    plt.ylabel('Objective variable: {}'.format(name))\n",
    "    plt.scatter(X, Y)\n",
    "    plt.plot(X, REG.predict(X))\n",
    "        \n",
    "display(df)\n",
    "\n",
    "if score != 0:\n",
    "    display('もっとも相関が強いものは{}. 相関係数は{}'.format(corr_name, corr))\n",
    "else:\n",
    "    display('相関無し')\n",
    "\n"
   ]
  },
  {
   "cell_type": "code",
   "execution_count": null,
   "metadata": {},
   "outputs": [],
   "source": [
    "\n",
    "# 一気に表示する\n",
    "corr = wine.corr()\n",
    "display(corr)\n",
    "display(type(corr))"
   ]
  },
  {
   "cell_type": "markdown",
   "metadata": {},
   "source": [
    "# 3 週目"
   ]
  },
  {
   "cell_type": "code",
   "execution_count": null,
   "metadata": {},
   "outputs": [],
   "source": [
    "import urllib\n",
    "import pandas as pd\n",
    "pd.set_option('display.max_rows', 10)"
   ]
  },
  {
   "cell_type": "code",
   "execution_count": null,
   "metadata": {},
   "outputs": [],
   "source": [
    "data = \"http://archive.ics.uci.edu/ml/machine-learning-databases/wine/wine.data\"\n",
    "urllib.request.urlretrieve(data,'./wine.data')\n",
    "wine = pd.read_csv('./wine.data', header=None)\n",
    "wine.columns =  ['class','Alcohol','Malic_acid','Ash',\n",
    "                'Alcalinity_of_ash','Magnesium','Total_phenols',\n",
    "                'Flavanoids','Nonflavanoid_phenols','Proanthocyanins',\n",
    "                'Color_intensity','Hue','OD280_OD315','Proline']\n",
    "display(wine)"
   ]
  },
  {
   "cell_type": "code",
   "execution_count": null,
   "metadata": {},
   "outputs": [],
   "source": [
    "from sklearn.linear_model import LinearRegression\n",
    "import matplotlib.pyplot as plt\n",
    "%matplotlib inline\n",
    "import scipy as sp\n",
    "\n",
    "# 目的変数の種類\n",
    "Y_columns = ['Malic_acid', 'Ash', 'Total_phenols', 'Color_intensity']\n",
    "\n",
    "# 説明変数\n",
    "X = wine[['Alcohol']]\n",
    "\n",
    "plt.figure(figsize=(10, 10))\n",
    "for index, column in enumerate (Y_columns):\n",
    "    REG = LinearRegression()\n",
    "        \n",
    "    # 目的変数\n",
    "    print('column: ', column)\n",
    "    Y = wine[column]\n",
    "    \n",
    "    REG.fit(X,Y)\n",
    "    \n",
    "    # パラメータ表示\n",
    "    print('回帰係数: ', REG.coef_)\n",
    "    print('切片: ', REG.intercept_)\n",
    "    print('決定係数: ', REG.score(X,Y))\n",
    "    corr, p = sp.stats.pearsonr(wine['Alcohol'], wine[column])\n",
    "    print('相関係数:{}, p:{} '.format(corr, p) )\n",
    "    \n",
    "    # 表示\n",
    "    plt.subplot(2,2,index + 1)\n",
    "    plt.plot(X, REG.predict(X))\n",
    "    plt.scatter(X, Y)\n",
    "    \n",
    "    \n",
    "    "
   ]
  },
  {
   "cell_type": "markdown",
   "metadata": {},
   "source": [
    "# 4週目"
   ]
  },
  {
   "cell_type": "code",
   "execution_count": null,
   "metadata": {},
   "outputs": [],
   "source": [
    "import pandas as pd\n",
    "import urllib\n",
    "import scipy as sp\n",
    "import matplotlib.pyplot as plt\n",
    "%matplotlib inline\n",
    "from sklearn.linear_model import LinearRegression"
   ]
  },
  {
   "cell_type": "code",
   "execution_count": null,
   "metadata": {},
   "outputs": [],
   "source": [
    "data = \"http://archive.ics.uci.edu/ml/machine-learning-databases/wine/wine.data\"\n",
    "urllib.request.urlretrieve(data, './wine.data')\n",
    "wine = pd.read_csv('./wine.data', header=None)\n",
    "wine.columns =  ['class','Alcohol','Malic_acid','Ash',\n",
    "                'Alcalinity_of_ash','Magnesium','Total_phenols',\n",
    "                'Flavanoids','Nonflavanoid_phenols','Proanthocyanins',\n",
    "                'Color_intensity','Hue','OD280_OD315','Proline']"
   ]
  },
  {
   "cell_type": "code",
   "execution_count": null,
   "metadata": {},
   "outputs": [],
   "source": [
    "# 説明変数\n",
    "X = wine[['Alcohol']]\n",
    "\n",
    "Y_names = ['Malic_acid','Ash','Total_phenols','Color_intensity']\n",
    "\n",
    "REG = LinearRegression()    "
   ]
  },
  {
   "cell_type": "code",
   "execution_count": null,
   "metadata": {},
   "outputs": [],
   "source": [
    "plt.figure(figsize=(10,10))\n",
    "for index, name in enumerate(Y_names):\n",
    "    # 目的変数\n",
    "    Y = wine[name]\n",
    "\n",
    "    REG.fit(X,Y)\n",
    "\n",
    "    print('回帰係数', REG.coef_)\n",
    "    print('切片',REG.intercept_)\n",
    "    print('決定係数', REG.score(X,Y))\n",
    "    res, p = sp.stats.pearsonr(wine['Alcohol'],Y.values)\n",
    "    print('相関係数', res)\n",
    "    print('有意確率', p)\n",
    "    plt.subplot(2,2,index+1)\n",
    "    plt.scatter(X, Y)\n",
    "    plt.plot(X, REG.predict(X))\n",
    "    "
   ]
  },
  {
   "cell_type": "markdown",
   "metadata": {},
   "source": [
    "# 5"
   ]
  },
  {
   "cell_type": "code",
   "execution_count": null,
   "metadata": {},
   "outputs": [],
   "source": [
    "import pandas as pd\n",
    "pd.set_option('display.max_rows', 10)"
   ]
  },
  {
   "cell_type": "code",
   "execution_count": null,
   "metadata": {},
   "outputs": [],
   "source": [
    "data = \"http://archive.ics.uci.edu/ml/machine-learning-databases/wine/wine.data\"\n",
    "wine = pd.read_csv(data, header=None)\n",
    "wine.columns = ['class','Alcohol','Malic_acid','Ash',\n",
    "                'Alcalinity_of_ash','Magnesium','Total_phenols',\n",
    "                'Flavanoids','Nonflavanoid_phenols','Proanthocyanins',\n",
    "                'Color_intensity','Hue','OD280_OD315','Proline']"
   ]
  },
  {
   "cell_type": "code",
   "execution_count": null,
   "metadata": {},
   "outputs": [],
   "source": [
    "wine"
   ]
  },
  {
   "cell_type": "code",
   "execution_count": null,
   "metadata": {},
   "outputs": [],
   "source": [
    "# 目的変数\n",
    "Y = ['Malic_acid', 'Ash', 'Total_phenols','Color_intensity']"
   ]
  },
  {
   "cell_type": "code",
   "execution_count": null,
   "metadata": {},
   "outputs": [],
   "source": [
    "X = wine[['Alcohol']]"
   ]
  },
  {
   "cell_type": "code",
   "execution_count": null,
   "metadata": {},
   "outputs": [],
   "source": [
    "from sklearn.linear_model import LinearRegression\n",
    "import scipy as sc\n",
    "import matplotlib.pyplot as plt\n",
    "%matplotlib inline"
   ]
  },
  {
   "cell_type": "code",
   "execution_count": null,
   "metadata": {},
   "outputs": [],
   "source": [
    "REG = LinearRegression()\n"
   ]
  },
  {
   "cell_type": "code",
   "execution_count": null,
   "metadata": {},
   "outputs": [],
   "source": [
    "plt.figure(figsize=(10,10))\n",
    "for i, name in enumerate(Y):\n",
    "    REG.fit(X, wine[name])\n",
    "    display('回帰係数: {}, 切片: {}, 決定係数: {},'.format(REG.coef_, REG.intercept_, REG.score(X, wine[name])))\n",
    "    display('相関係数: {}'.format(sc.stats.pearsonr(wine['Alcohol'], wine[name])))\n",
    "    \n",
    "    plt.subplot(2,2,i+1)\n",
    "    plt.scatter(wine['Alcohol'], wine[name])\n",
    "    plt.plot(wine['Alcohol'], REG.predict(X))"
   ]
  },
  {
   "cell_type": "code",
   "execution_count": null,
   "metadata": {},
   "outputs": [],
   "source": []
  }
 ],
 "metadata": {
  "kernelspec": {
   "display_name": "Python 3",
   "language": "python",
   "name": "python3"
  },
  "language_info": {
   "codemirror_mode": {
    "name": "ipython",
    "version": 3
   },
   "file_extension": ".py",
   "mimetype": "text/x-python",
   "name": "python",
   "nbconvert_exporter": "python",
   "pygments_lexer": "ipython3",
   "version": "3.7.3"
  }
 },
 "nbformat": 4,
 "nbformat_minor": 2
}
