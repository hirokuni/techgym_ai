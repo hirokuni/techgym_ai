{
 "cells": [
  {
   "cell_type": "code",
   "execution_count": 23,
   "metadata": {},
   "outputs": [],
   "source": [
    "import pandas as pd\n",
    "pd.set_option('display.max_rows', 10)"
   ]
  },
  {
   "cell_type": "code",
   "execution_count": 24,
   "metadata": {},
   "outputs": [
    {
     "data": {
      "text/html": [
       "<div>\n",
       "<style scoped>\n",
       "    .dataframe tbody tr th:only-of-type {\n",
       "        vertical-align: middle;\n",
       "    }\n",
       "\n",
       "    .dataframe tbody tr th {\n",
       "        vertical-align: top;\n",
       "    }\n",
       "\n",
       "    .dataframe thead th {\n",
       "        text-align: right;\n",
       "    }\n",
       "</style>\n",
       "<table border=\"1\" class=\"dataframe\">\n",
       "  <thead>\n",
       "    <tr style=\"text-align: right;\">\n",
       "      <th>feature</th>\n",
       "      <th>id</th>\n",
       "      <th>gender</th>\n",
       "      <th>age</th>\n",
       "      <th>address</th>\n",
       "      <th>hobby</th>\n",
       "      <th>job</th>\n",
       "      <th>win</th>\n",
       "      <th>lose</th>\n",
       "      <th>draw</th>\n",
       "    </tr>\n",
       "    <tr>\n",
       "      <th>NUM</th>\n",
       "      <th></th>\n",
       "      <th></th>\n",
       "      <th></th>\n",
       "      <th></th>\n",
       "      <th></th>\n",
       "      <th></th>\n",
       "      <th></th>\n",
       "      <th></th>\n",
       "      <th></th>\n",
       "    </tr>\n",
       "  </thead>\n",
       "  <tbody>\n",
       "    <tr>\n",
       "      <th>0</th>\n",
       "      <td>100</td>\n",
       "      <td>男性</td>\n",
       "      <td>30代</td>\n",
       "      <td>東京</td>\n",
       "      <td>野球</td>\n",
       "      <td>IT</td>\n",
       "      <td>20</td>\n",
       "      <td>24</td>\n",
       "      <td>15</td>\n",
       "    </tr>\n",
       "    <tr>\n",
       "      <th>1</th>\n",
       "      <td>101</td>\n",
       "      <td>男性</td>\n",
       "      <td>20代</td>\n",
       "      <td>大阪</td>\n",
       "      <td>ルーレット</td>\n",
       "      <td>医療</td>\n",
       "      <td>21</td>\n",
       "      <td>15</td>\n",
       "      <td>40</td>\n",
       "    </tr>\n",
       "    <tr>\n",
       "      <th>2</th>\n",
       "      <td>102</td>\n",
       "      <td>女性</td>\n",
       "      <td>10代</td>\n",
       "      <td>名古屋</td>\n",
       "      <td>じゃんけん</td>\n",
       "      <td>弁護士</td>\n",
       "      <td>4</td>\n",
       "      <td>35</td>\n",
       "      <td>34</td>\n",
       "    </tr>\n",
       "    <tr>\n",
       "      <th>3</th>\n",
       "      <td>103</td>\n",
       "      <td>男性</td>\n",
       "      <td>10代</td>\n",
       "      <td>北海道</td>\n",
       "      <td>野球</td>\n",
       "      <td>事務</td>\n",
       "      <td>60</td>\n",
       "      <td>3</td>\n",
       "      <td>29</td>\n",
       "    </tr>\n",
       "    <tr>\n",
       "      <th>4</th>\n",
       "      <td>104</td>\n",
       "      <td>女性</td>\n",
       "      <td>40代</td>\n",
       "      <td>東京</td>\n",
       "      <td>ルーレット</td>\n",
       "      <td>事務</td>\n",
       "      <td>14</td>\n",
       "      <td>35</td>\n",
       "      <td>14</td>\n",
       "    </tr>\n",
       "    <tr>\n",
       "      <th>5</th>\n",
       "      <td>105</td>\n",
       "      <td>男性</td>\n",
       "      <td>50代</td>\n",
       "      <td>鹿児島</td>\n",
       "      <td>野球</td>\n",
       "      <td>弁護士</td>\n",
       "      <td>10</td>\n",
       "      <td>29</td>\n",
       "      <td>4</td>\n",
       "    </tr>\n",
       "    <tr>\n",
       "      <th>6</th>\n",
       "      <td>106</td>\n",
       "      <td>女性</td>\n",
       "      <td>40代</td>\n",
       "      <td>大阪</td>\n",
       "      <td>じゃんけん</td>\n",
       "      <td>IT</td>\n",
       "      <td>12</td>\n",
       "      <td>2</td>\n",
       "      <td>22</td>\n",
       "    </tr>\n",
       "    <tr>\n",
       "      <th>7</th>\n",
       "      <td>107</td>\n",
       "      <td>女性</td>\n",
       "      <td>10代</td>\n",
       "      <td>名古屋</td>\n",
       "      <td>ルーレット</td>\n",
       "      <td>IT</td>\n",
       "      <td>19</td>\n",
       "      <td>12</td>\n",
       "      <td>17</td>\n",
       "    </tr>\n",
       "    <tr>\n",
       "      <th>8</th>\n",
       "      <td>108</td>\n",
       "      <td>男性</td>\n",
       "      <td>20代</td>\n",
       "      <td>東京</td>\n",
       "      <td>野球</td>\n",
       "      <td>IT</td>\n",
       "      <td>12</td>\n",
       "      <td>11</td>\n",
       "      <td>12</td>\n",
       "    </tr>\n",
       "    <tr>\n",
       "      <th>9</th>\n",
       "      <td>109</td>\n",
       "      <td>男性</td>\n",
       "      <td>10代</td>\n",
       "      <td>大阪</td>\n",
       "      <td>じゃんけん</td>\n",
       "      <td>事務</td>\n",
       "      <td>14</td>\n",
       "      <td>43</td>\n",
       "      <td>10</td>\n",
       "    </tr>\n",
       "  </tbody>\n",
       "</table>\n",
       "</div>"
      ],
      "text/plain": [
       "feature   id gender  age address  hobby  job  win  lose  draw\n",
       "NUM                                                          \n",
       "0        100     男性  30代      東京     野球   IT   20    24    15\n",
       "1        101     男性  20代      大阪  ルーレット   医療   21    15    40\n",
       "2        102     女性  10代     名古屋  じゃんけん  弁護士    4    35    34\n",
       "3        103     男性  10代     北海道     野球   事務   60     3    29\n",
       "4        104     女性  40代      東京  ルーレット   事務   14    35    14\n",
       "5        105     男性  50代     鹿児島     野球  弁護士   10    29     4\n",
       "6        106     女性  40代      大阪  じゃんけん   IT   12     2    22\n",
       "7        107     女性  10代     名古屋  ルーレット   IT   19    12    17\n",
       "8        108     男性  20代      東京     野球   IT   12    11    12\n",
       "9        109     男性  10代      大阪  じゃんけん   事務   14    43    10"
      ]
     },
     "metadata": {},
     "output_type": "display_data"
    }
   ],
   "source": [
    "num = ['0','1','2','3','4','5','6','7','8','9']\n",
    "add_num = ['10']\n",
    "feature =['id','gender','age','address','hobby','job','win','lose','draw']\n",
    "\n",
    "hand1 = {'番号'  :['100','101','102','103','104','105','106','107','108','109'],\n",
    "         '性別'  :['男性','男性','女性','男性','女性','男性','女性','女性','男性','男性'],\n",
    "         '年齢'  :['30代','20代','10代','10代','40代','50代','40代','10代','20代','10代'],\n",
    "         '住所'  :['東京','大阪','名古屋','北海道','東京','鹿児島','大阪','名古屋','東京','大阪'],\n",
    "         '趣味'  :['野球','ルーレット','じゃんけん','野球','ルーレット','野球','じゃんけん','ルーレット','野球','じゃんけん'],\n",
    "         '仕事'  :['IT','医療','弁護士','事務','事務','弁護士','IT','IT','IT','事務'],\n",
    "         '勝ち'  :[20,21, 4,60,14,10,12,19,12,14],\n",
    "         '負け'  :[24,15,35, 3,35,29, 2,12,11,43],\n",
    "         'あいこ':[15,40,34,29,14, 4,22,17,12,10]}\n",
    "hand_df1 = pd.DataFrame(hand1)\n",
    "hand_df1.columns = feature\n",
    "hand_df1.columns.names = ['feature']\n",
    "hand_df1.index = num\n",
    "hand_df1.index.names = ['NUM']\n",
    "display(hand_df1)"
   ]
  },
  {
   "cell_type": "code",
   "execution_count": 25,
   "metadata": {},
   "outputs": [
    {
     "data": {
      "text/html": [
       "<div>\n",
       "<style scoped>\n",
       "    .dataframe tbody tr th:only-of-type {\n",
       "        vertical-align: middle;\n",
       "    }\n",
       "\n",
       "    .dataframe tbody tr th {\n",
       "        vertical-align: top;\n",
       "    }\n",
       "\n",
       "    .dataframe thead th {\n",
       "        text-align: right;\n",
       "    }\n",
       "</style>\n",
       "<table border=\"1\" class=\"dataframe\">\n",
       "  <thead>\n",
       "    <tr style=\"text-align: right;\">\n",
       "      <th>feature</th>\n",
       "      <th>id</th>\n",
       "      <th>gender</th>\n",
       "      <th>age</th>\n",
       "      <th>address</th>\n",
       "      <th>hobby</th>\n",
       "      <th>job</th>\n",
       "      <th>win</th>\n",
       "      <th>lose</th>\n",
       "      <th>draw</th>\n",
       "    </tr>\n",
       "  </thead>\n",
       "  <tbody>\n",
       "    <tr>\n",
       "      <th>10</th>\n",
       "      <td>104</td>\n",
       "      <td>女性</td>\n",
       "      <td>40代</td>\n",
       "      <td>東京</td>\n",
       "      <td>ルーレット</td>\n",
       "      <td>事務</td>\n",
       "      <td>14</td>\n",
       "      <td>35</td>\n",
       "      <td>14</td>\n",
       "    </tr>\n",
       "  </tbody>\n",
       "</table>\n",
       "</div>"
      ],
      "text/plain": [
       "feature   id gender  age address  hobby job  win  lose  draw\n",
       "10       104     女性  40代      東京  ルーレット  事務   14    35    14"
      ]
     },
     "metadata": {},
     "output_type": "display_data"
    }
   ],
   "source": [
    "hand2 = {'id':['104'],\n",
    "         'gender':['女性'],\n",
    "         'age':['40代'],\n",
    "         'address':['東京'],\n",
    "         'hobby':['ルーレット'],\n",
    "         'job':['事務'],\n",
    "         'win':[14],\n",
    "         'lose':[35],\n",
    "         'draw':[14]}\n",
    "hand_df2 = pd.DataFrame(hand2)\n",
    "hand_df2.columns = feature\n",
    "hand_df2.columns.names = ['feature']\n",
    "hand_df2.index = add_num\n",
    "hand_df2.index.nmaes = ['NUM']\n",
    "display(hand_df2)"
   ]
  },
  {
   "cell_type": "code",
   "execution_count": null,
   "metadata": {},
   "outputs": [],
   "source": [
    "hand_df2 = hand_df1.append(hand_df2)"
   ]
  },
  {
   "cell_type": "code",
   "execution_count": null,
   "metadata": {},
   "outputs": [],
   "source": [
    "\n",
    "display(type(hand_df2.duplicated()))\n",
    "hand_df2.duplicated()"
   ]
  },
  {
   "cell_type": "code",
   "execution_count": null,
   "metadata": {},
   "outputs": [],
   "source": [
    "hand_df2[hand_df2.duplicated()]"
   ]
  },
  {
   "cell_type": "code",
   "execution_count": null,
   "metadata": {},
   "outputs": [],
   "source": [
    "hand_df2.drop_duplicates()"
   ]
  },
  {
   "cell_type": "code",
   "execution_count": null,
   "metadata": {},
   "outputs": [],
   "source": [
    "display(type(hand_df2.isnull()))\n",
    "hand_df2.isnull().sum()"
   ]
  },
  {
   "cell_type": "code",
   "execution_count": null,
   "metadata": {},
   "outputs": [],
   "source": [
    "display(type(hand_df2.duplicated()))\n",
    "hand_df2.duplicated().sum()"
   ]
  },
  {
   "cell_type": "markdown",
   "metadata": {},
   "source": [
    "# 3週目"
   ]
  },
  {
   "cell_type": "code",
   "execution_count": null,
   "metadata": {},
   "outputs": [],
   "source": [
    "import pandas as pd"
   ]
  },
  {
   "cell_type": "code",
   "execution_count": null,
   "metadata": {},
   "outputs": [],
   "source": [
    "add_num = ['10']\n",
    "feature =['id','gender','age','address','hobby','job','win','lose','draw']\n",
    "num = ['0','1','2','3','4','5','6','7','8','9']\n",
    "hand1 = {'番号'  :['100','101','102','103','104','105','106','107','108','109'],\n",
    "         '性別'  :['男性','男性','女性','男性','女性','男性','女性','女性','男性','男性'],\n",
    "         '年齢'  :['30代','20代','10代','10代','40代','50代','40代','10代','20代','10代'],\n",
    "         '住所'  :['東京','大阪','名古屋','北海道','東京','鹿児島','大阪','名古屋','東京','大阪'],\n",
    "         '趣味'  :['野球','ルーレット','じゃんけん','野球','ルーレット','野球','じゃんけん','ルーレット','野球','じゃんけん'],\n",
    "         '仕事'  :['IT','医療','弁護士','事務','事務','弁護士','IT','IT','IT','事務'],\n",
    "         '勝ち'  :[20,21, 4,60,14,10,12,19,12,14],\n",
    "         '負け'  :[24,15,35, 3,35,29, 2,12,11,43],\n",
    "         'あいこ':[15,40,34,29,14, 4,22,17,12,10]}\n",
    "hand2 = {'id':['104'],\n",
    "         'gender':['女性'],\n",
    "         'age':['40代'],\n",
    "         'address':['東京'],\n",
    "         'hobby':['ルーレット'],\n",
    "         'job':['事務'],\n",
    "         'win':[14],\n",
    "         'lose':[35],\n",
    "         'draw':[14]}"
   ]
  },
  {
   "cell_type": "code",
   "execution_count": null,
   "metadata": {},
   "outputs": [],
   "source": [
    "hand_df1 = pd.DataFrame(hand1)\n",
    "hand_df1.columns = feature\n",
    "hand_df1.columns.names = ['feature']\n",
    "hand_df1.index = num\n",
    "hand_df1.index.names = ['NUM']\n",
    "\n",
    "hand_df2 = pd.DataFrame(hand2)\n",
    "hand_df2.index = add_num\n",
    "hand_df2.index.names=['NUM']"
   ]
  },
  {
   "cell_type": "code",
   "execution_count": null,
   "metadata": {},
   "outputs": [],
   "source": [
    "df_append = hand_df1.append(hand_df2)"
   ]
  },
  {
   "cell_type": "code",
   "execution_count": null,
   "metadata": {},
   "outputs": [],
   "source": [
    "df_concat = pd.concat([hand_df1, hand_df2])"
   ]
  },
  {
   "cell_type": "code",
   "execution_count": null,
   "metadata": {},
   "outputs": [],
   "source": [
    "display(df_append)"
   ]
  },
  {
   "cell_type": "code",
   "execution_count": null,
   "metadata": {},
   "outputs": [],
   "source": [
    "dff_bool = df_append != df_concat"
   ]
  },
  {
   "cell_type": "code",
   "execution_count": null,
   "metadata": {},
   "outputs": [],
   "source": [
    "dff_bool.sum()"
   ]
  },
  {
   "cell_type": "code",
   "execution_count": null,
   "metadata": {},
   "outputs": [],
   "source": [
    "display(df_append[df_append.duplicated()])\n",
    "display(df_concat[df_concat.duplicated()])"
   ]
  },
  {
   "cell_type": "code",
   "execution_count": null,
   "metadata": {},
   "outputs": [],
   "source": [
    "display(df_append.drop_duplicates())"
   ]
  },
  {
   "cell_type": "code",
   "execution_count": null,
   "metadata": {},
   "outputs": [],
   "source": [
    "# 完全(type, 値)に行が重複していないとDuplicatedにはならない\n",
    "hand3 = {'id':['104'],\n",
    "         'gender':['男性'],\n",
    "         'age':['40代'],\n",
    "         'address':['東京'],\n",
    "         'hobby':['ルーレット'],\n",
    "         'job':['事務'],\n",
    "         'win':[14],\n",
    "         'lose':[35],\n",
    "         'draw':[14]}\n",
    "hand_df3 = pd.DataFrame(hand3)\n",
    "hand_df3.index = add_num\n",
    "hand_df3.index.names = ['NUM']\n",
    "display(hand_df3)\n",
    "hand_df1.append(hand_df3).duplicated()"
   ]
  },
  {
   "cell_type": "code",
   "execution_count": null,
   "metadata": {},
   "outputs": [],
   "source": [
    "# 重複した行を削除する\n",
    "df_append_drop = df_append.drop_duplicates()\n",
    "display(df_append_drop)\n",
    "display(df_append_drop.isnull().sum())"
   ]
  },
  {
   "cell_type": "markdown",
   "metadata": {},
   "source": [
    "# 4"
   ]
  },
  {
   "cell_type": "code",
   "execution_count": null,
   "metadata": {},
   "outputs": [],
   "source": [
    "import pandas as pd"
   ]
  },
  {
   "cell_type": "code",
   "execution_count": null,
   "metadata": {},
   "outputs": [],
   "source": [
    "feature1 =['gender','age','win','lose','draw']\n",
    "hand1 = {'性別'  :['男性','男性','女性','男性','女性','男性','女性','女性','男性','男性'],\n",
    "        '年齢'  :['30代','20代','10代','10代','40代','50代','40代','10代','20代','10代'],\n",
    "        '勝ち'  :[20,21, 4,60,14,10,12,19,12,14],\n",
    "        '負け'  :[24,15,35, 3,35,29, 2,12,11,43],\n",
    "        'あいこ':[15,40,34,29,14, 4,22,17,12,10]}\n",
    "id1 = ['100','101','102','103','104','105','106','107','108','109']\n",
    "\n",
    "feature2 =['address','hobby','job']\n",
    "hand2 = {'住所'  :['東京','大阪','名古屋','北海道','東京','鹿児島','大阪','名古屋','東京','大阪'],\n",
    "        '趣味'  :['野球','賭博','じゃんけん','野球','賭博','野球','じゃんけん','賭博','野球','じゃんけん'],\n",
    "        '仕事'  :['IT','医療','弁護士','事務','事務','弁護士','IT','IT','IT','事務']}\n",
    "id2 = ['100','101','102','103','110','111','106','113','108','114']"
   ]
  },
  {
   "cell_type": "code",
   "execution_count": null,
   "metadata": {},
   "outputs": [],
   "source": [
    "hand_df1 = pd.DataFrame(hand1)\n",
    "hand_df1.columns = feature1\n",
    "hand_df1.columns.names = ['feature']\n",
    "hand_df1.index = id1\n",
    "hand_df1.index.names = ['id']\n",
    "hand_df2 = pd.DataFrame(hand2)\n",
    "hand_df2.columns = feature2\n",
    "hand_df2.columns.names = ['feature']\n",
    "hand_df2.index = id2\n",
    "hand_df2.index.names = ['id']"
   ]
  },
  {
   "cell_type": "code",
   "execution_count": null,
   "metadata": {},
   "outputs": [],
   "source": [
    "hand_concat_df = pd.concat([hand_df1, hand_df2], sort=True)\n",
    "hand_concat_df"
   ]
  },
  {
   "cell_type": "code",
   "execution_count": null,
   "metadata": {},
   "outputs": [],
   "source": [
    "hand_append_df = hand_df1.append(hand_df2)\n",
    "hand_append_df"
   ]
  },
  {
   "cell_type": "code",
   "execution_count": null,
   "metadata": {},
   "outputs": [],
   "source": [
    "hand_concat_df[hand_concat_df.duplicated()]"
   ]
  },
  {
   "cell_type": "code",
   "execution_count": null,
   "metadata": {},
   "outputs": [],
   "source": [
    "hand_concat_drop_df = hand_concat_df.drop_duplicates()\n",
    "hand_concat_drop_df"
   ]
  },
  {
   "cell_type": "code",
   "execution_count": null,
   "metadata": {},
   "outputs": [],
   "source": [
    "hand_concat_drop_df.isna().sum()"
   ]
  },
  {
   "cell_type": "markdown",
   "metadata": {},
   "source": [
    "# 5"
   ]
  },
  {
   "cell_type": "code",
   "execution_count": 1,
   "metadata": {},
   "outputs": [],
   "source": [
    "import pandas as pd"
   ]
  },
  {
   "cell_type": "code",
   "execution_count": 2,
   "metadata": {},
   "outputs": [],
   "source": [
    "feature1 =['gender','age','win','lose','draw']\n",
    "hand1 = {'性別'  :['男性','男性','女性','男性','女性','男性','女性','女性','男性','男性'],\n",
    "        '年齢'  :['30代','20代','10代','10代','40代','50代','40代','10代','20代','10代'],\n",
    "        '勝ち'  :[20,21, 4,60,14,10,12,19,12,14],\n",
    "        '負け'  :[24,15,35, 3,35,29, 2,12,11,43],\n",
    "        'あいこ':[15,40,34,29,14, 4,22,17,12,10]}\n",
    "id1 = ['100','101','102','103','104','105','106','107','108','109']\n",
    "\n",
    "feature2 =['address','hobby','job']\n",
    "hand2 = {'住所'  :['東京','大阪','名古屋','北海道','東京','鹿児島','大阪','名古屋','東京','大阪'],\n",
    "        '趣味'  :['野球','賭博','じゃんけん','野球','賭博','野球','じゃんけん','賭博','野球','じゃんけん'],\n",
    "        '仕事'  :['IT','医療','弁護士','事務','事務','弁護士','IT','IT','IT','事務']}\n",
    "id2 = ['100','101','102','103','110','111','106','113','108','114']"
   ]
  },
  {
   "cell_type": "code",
   "execution_count": 15,
   "metadata": {},
   "outputs": [],
   "source": [
    "hand_df1 = pd.DataFrame(hand1)\n",
    "hand_df1.columns = feature1\n",
    "hand_df1.columns.names = ['feature']\n",
    "hand_df1.index = id1\n",
    "hand_df1.index.names = ['id']\n",
    "hand_df2 = pd.DataFrame(hand2)\n",
    "hand_df2.columns = feature2\n",
    "hand_df2.columns.names = ['feature']\n",
    "hand_df2.index = id2\n",
    "hand_df2.index.names = ['id']\n",
    "pd.set_option('display.max.rows', 10)"
   ]
  },
  {
   "cell_type": "code",
   "execution_count": 16,
   "metadata": {},
   "outputs": [
    {
     "data": {
      "text/html": [
       "<div>\n",
       "<style scoped>\n",
       "    .dataframe tbody tr th:only-of-type {\n",
       "        vertical-align: middle;\n",
       "    }\n",
       "\n",
       "    .dataframe tbody tr th {\n",
       "        vertical-align: top;\n",
       "    }\n",
       "\n",
       "    .dataframe thead th {\n",
       "        text-align: right;\n",
       "    }\n",
       "</style>\n",
       "<table border=\"1\" class=\"dataframe\">\n",
       "  <thead>\n",
       "    <tr style=\"text-align: right;\">\n",
       "      <th>feature</th>\n",
       "      <th>gender</th>\n",
       "      <th>age</th>\n",
       "      <th>win</th>\n",
       "      <th>lose</th>\n",
       "      <th>draw</th>\n",
       "    </tr>\n",
       "    <tr>\n",
       "      <th>id</th>\n",
       "      <th></th>\n",
       "      <th></th>\n",
       "      <th></th>\n",
       "      <th></th>\n",
       "      <th></th>\n",
       "    </tr>\n",
       "  </thead>\n",
       "  <tbody>\n",
       "    <tr>\n",
       "      <th>100</th>\n",
       "      <td>男性</td>\n",
       "      <td>30代</td>\n",
       "      <td>20</td>\n",
       "      <td>24</td>\n",
       "      <td>15</td>\n",
       "    </tr>\n",
       "    <tr>\n",
       "      <th>101</th>\n",
       "      <td>男性</td>\n",
       "      <td>20代</td>\n",
       "      <td>21</td>\n",
       "      <td>15</td>\n",
       "      <td>40</td>\n",
       "    </tr>\n",
       "    <tr>\n",
       "      <th>102</th>\n",
       "      <td>女性</td>\n",
       "      <td>10代</td>\n",
       "      <td>4</td>\n",
       "      <td>35</td>\n",
       "      <td>34</td>\n",
       "    </tr>\n",
       "    <tr>\n",
       "      <th>103</th>\n",
       "      <td>男性</td>\n",
       "      <td>10代</td>\n",
       "      <td>60</td>\n",
       "      <td>3</td>\n",
       "      <td>29</td>\n",
       "    </tr>\n",
       "    <tr>\n",
       "      <th>104</th>\n",
       "      <td>女性</td>\n",
       "      <td>40代</td>\n",
       "      <td>14</td>\n",
       "      <td>35</td>\n",
       "      <td>14</td>\n",
       "    </tr>\n",
       "    <tr>\n",
       "      <th>105</th>\n",
       "      <td>男性</td>\n",
       "      <td>50代</td>\n",
       "      <td>10</td>\n",
       "      <td>29</td>\n",
       "      <td>4</td>\n",
       "    </tr>\n",
       "    <tr>\n",
       "      <th>106</th>\n",
       "      <td>女性</td>\n",
       "      <td>40代</td>\n",
       "      <td>12</td>\n",
       "      <td>2</td>\n",
       "      <td>22</td>\n",
       "    </tr>\n",
       "    <tr>\n",
       "      <th>107</th>\n",
       "      <td>女性</td>\n",
       "      <td>10代</td>\n",
       "      <td>19</td>\n",
       "      <td>12</td>\n",
       "      <td>17</td>\n",
       "    </tr>\n",
       "    <tr>\n",
       "      <th>108</th>\n",
       "      <td>男性</td>\n",
       "      <td>20代</td>\n",
       "      <td>12</td>\n",
       "      <td>11</td>\n",
       "      <td>12</td>\n",
       "    </tr>\n",
       "    <tr>\n",
       "      <th>109</th>\n",
       "      <td>男性</td>\n",
       "      <td>10代</td>\n",
       "      <td>14</td>\n",
       "      <td>43</td>\n",
       "      <td>10</td>\n",
       "    </tr>\n",
       "  </tbody>\n",
       "</table>\n",
       "</div>"
      ],
      "text/plain": [
       "feature gender  age  win  lose  draw\n",
       "id                                  \n",
       "100         男性  30代   20    24    15\n",
       "101         男性  20代   21    15    40\n",
       "102         女性  10代    4    35    34\n",
       "103         男性  10代   60     3    29\n",
       "104         女性  40代   14    35    14\n",
       "105         男性  50代   10    29     4\n",
       "106         女性  40代   12     2    22\n",
       "107         女性  10代   19    12    17\n",
       "108         男性  20代   12    11    12\n",
       "109         男性  10代   14    43    10"
      ]
     },
     "metadata": {},
     "output_type": "display_data"
    },
    {
     "data": {
      "text/html": [
       "<div>\n",
       "<style scoped>\n",
       "    .dataframe tbody tr th:only-of-type {\n",
       "        vertical-align: middle;\n",
       "    }\n",
       "\n",
       "    .dataframe tbody tr th {\n",
       "        vertical-align: top;\n",
       "    }\n",
       "\n",
       "    .dataframe thead th {\n",
       "        text-align: right;\n",
       "    }\n",
       "</style>\n",
       "<table border=\"1\" class=\"dataframe\">\n",
       "  <thead>\n",
       "    <tr style=\"text-align: right;\">\n",
       "      <th>feature</th>\n",
       "      <th>address</th>\n",
       "      <th>hobby</th>\n",
       "      <th>job</th>\n",
       "    </tr>\n",
       "    <tr>\n",
       "      <th>id</th>\n",
       "      <th></th>\n",
       "      <th></th>\n",
       "      <th></th>\n",
       "    </tr>\n",
       "  </thead>\n",
       "  <tbody>\n",
       "    <tr>\n",
       "      <th>100</th>\n",
       "      <td>東京</td>\n",
       "      <td>野球</td>\n",
       "      <td>IT</td>\n",
       "    </tr>\n",
       "    <tr>\n",
       "      <th>101</th>\n",
       "      <td>大阪</td>\n",
       "      <td>賭博</td>\n",
       "      <td>医療</td>\n",
       "    </tr>\n",
       "    <tr>\n",
       "      <th>102</th>\n",
       "      <td>名古屋</td>\n",
       "      <td>じゃんけん</td>\n",
       "      <td>弁護士</td>\n",
       "    </tr>\n",
       "    <tr>\n",
       "      <th>103</th>\n",
       "      <td>北海道</td>\n",
       "      <td>野球</td>\n",
       "      <td>事務</td>\n",
       "    </tr>\n",
       "    <tr>\n",
       "      <th>110</th>\n",
       "      <td>東京</td>\n",
       "      <td>賭博</td>\n",
       "      <td>事務</td>\n",
       "    </tr>\n",
       "    <tr>\n",
       "      <th>111</th>\n",
       "      <td>鹿児島</td>\n",
       "      <td>野球</td>\n",
       "      <td>弁護士</td>\n",
       "    </tr>\n",
       "    <tr>\n",
       "      <th>106</th>\n",
       "      <td>大阪</td>\n",
       "      <td>じゃんけん</td>\n",
       "      <td>IT</td>\n",
       "    </tr>\n",
       "    <tr>\n",
       "      <th>113</th>\n",
       "      <td>名古屋</td>\n",
       "      <td>賭博</td>\n",
       "      <td>IT</td>\n",
       "    </tr>\n",
       "    <tr>\n",
       "      <th>108</th>\n",
       "      <td>東京</td>\n",
       "      <td>野球</td>\n",
       "      <td>IT</td>\n",
       "    </tr>\n",
       "    <tr>\n",
       "      <th>114</th>\n",
       "      <td>大阪</td>\n",
       "      <td>じゃんけん</td>\n",
       "      <td>事務</td>\n",
       "    </tr>\n",
       "  </tbody>\n",
       "</table>\n",
       "</div>"
      ],
      "text/plain": [
       "feature address  hobby  job\n",
       "id                         \n",
       "100          東京     野球   IT\n",
       "101          大阪     賭博   医療\n",
       "102         名古屋  じゃんけん  弁護士\n",
       "103         北海道     野球   事務\n",
       "110          東京     賭博   事務\n",
       "111         鹿児島     野球  弁護士\n",
       "106          大阪  じゃんけん   IT\n",
       "113         名古屋     賭博   IT\n",
       "108          東京     野球   IT\n",
       "114          大阪  じゃんけん   事務"
      ]
     },
     "metadata": {},
     "output_type": "display_data"
    }
   ],
   "source": [
    "display(hand_df1)\n",
    "display(hand_df2)"
   ]
  },
  {
   "cell_type": "code",
   "execution_count": 22,
   "metadata": {},
   "outputs": [
    {
     "name": "stderr",
     "output_type": "stream",
     "text": [
      "/Users/hirokuni/.pyenv/versions/anaconda3-2019.03/lib/python3.7/site-packages/ipykernel_launcher.py:1: FutureWarning: Sorting because non-concatenation axis is not aligned. A future version\n",
      "of pandas will change to not sort by default.\n",
      "\n",
      "To accept the future behavior, pass 'sort=False'.\n",
      "\n",
      "To retain the current behavior and silence the warning, pass 'sort=True'.\n",
      "\n",
      "  \"\"\"Entry point for launching an IPython kernel.\n"
     ]
    },
    {
     "data": {
      "text/html": [
       "<div>\n",
       "<style scoped>\n",
       "    .dataframe tbody tr th:only-of-type {\n",
       "        vertical-align: middle;\n",
       "    }\n",
       "\n",
       "    .dataframe tbody tr th {\n",
       "        vertical-align: top;\n",
       "    }\n",
       "\n",
       "    .dataframe thead th {\n",
       "        text-align: right;\n",
       "    }\n",
       "</style>\n",
       "<table border=\"1\" class=\"dataframe\">\n",
       "  <thead>\n",
       "    <tr style=\"text-align: right;\">\n",
       "      <th></th>\n",
       "      <th>address</th>\n",
       "      <th>age</th>\n",
       "      <th>draw</th>\n",
       "      <th>gender</th>\n",
       "      <th>hobby</th>\n",
       "      <th>job</th>\n",
       "      <th>lose</th>\n",
       "      <th>win</th>\n",
       "    </tr>\n",
       "    <tr>\n",
       "      <th>id</th>\n",
       "      <th></th>\n",
       "      <th></th>\n",
       "      <th></th>\n",
       "      <th></th>\n",
       "      <th></th>\n",
       "      <th></th>\n",
       "      <th></th>\n",
       "      <th></th>\n",
       "    </tr>\n",
       "  </thead>\n",
       "  <tbody>\n",
       "    <tr>\n",
       "      <th>108</th>\n",
       "      <td>東京</td>\n",
       "      <td>NaN</td>\n",
       "      <td>NaN</td>\n",
       "      <td>NaN</td>\n",
       "      <td>野球</td>\n",
       "      <td>IT</td>\n",
       "      <td>NaN</td>\n",
       "      <td>NaN</td>\n",
       "    </tr>\n",
       "  </tbody>\n",
       "</table>\n",
       "</div>"
      ],
      "text/plain": [
       "    address  age  draw gender hobby job  lose  win\n",
       "id                                                \n",
       "108      東京  NaN   NaN    NaN    野球  IT   NaN  NaN"
      ]
     },
     "execution_count": 22,
     "metadata": {},
     "output_type": "execute_result"
    }
   ],
   "source": [
    "concat =  pd.concat([hand_df1, hand_df2])\n",
    "duplicated =concat.duplicated()\n",
    "concat[duplicated]"
   ]
  },
  {
   "cell_type": "code",
   "execution_count": null,
   "metadata": {},
   "outputs": [],
   "source": []
  }
 ],
 "metadata": {
  "kernelspec": {
   "display_name": "Python 3",
   "language": "python",
   "name": "python3"
  },
  "language_info": {
   "codemirror_mode": {
    "name": "ipython",
    "version": 3
   },
   "file_extension": ".py",
   "mimetype": "text/x-python",
   "name": "python",
   "nbconvert_exporter": "python",
   "pygments_lexer": "ipython3",
   "version": "3.7.3"
  }
 },
 "nbformat": 4,
 "nbformat_minor": 2
}
