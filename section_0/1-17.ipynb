{
 "cells": [
  {
   "cell_type": "code",
   "execution_count": 2,
   "metadata": {},
   "outputs": [],
   "source": [
    "import pandas as pd\n",
    "import urllib\n",
    "import matplotlib.pyplot as plt\n",
    "%matplotlib inline\n",
    "import scipy as sp\n",
    "from sklearn import linear_model"
   ]
  },
  {
   "cell_type": "code",
   "execution_count": 7,
   "metadata": {},
   "outputs": [
    {
     "data": {
      "text/plain": [
       "('./wine.names', <http.client.HTTPMessage at 0x1a20e9bd68>)"
      ]
     },
     "execution_count": 7,
     "metadata": {},
     "output_type": "execute_result"
    }
   ],
   "source": [
    "#データの取得\n",
    "data = \"http://archive.ics.uci.edu/ml/machine-learning-databases/wine/wine.data\"\n",
    "wine = pd.read_csv(data)\n",
    "txt = \"http://archive.ics.uci.edu/ml/machine-learning-databases/wine/wine.names\"\n",
    "urllib.request.urlretrieve(txt, './wine.names')\n",
    "\n",
    "# with open('./wine.names') as f:\n",
    "#     for line in f:\n",
    "#         print(line)"
   ]
  },
  {
   "cell_type": "code",
   "execution_count": 8,
   "metadata": {},
   "outputs": [
    {
     "data": {
      "text/html": [
       "<div>\n",
       "<style scoped>\n",
       "    .dataframe tbody tr th:only-of-type {\n",
       "        vertical-align: middle;\n",
       "    }\n",
       "\n",
       "    .dataframe tbody tr th {\n",
       "        vertical-align: top;\n",
       "    }\n",
       "\n",
       "    .dataframe thead th {\n",
       "        text-align: right;\n",
       "    }\n",
       "</style>\n",
       "<table border=\"1\" class=\"dataframe\">\n",
       "  <thead>\n",
       "    <tr style=\"text-align: right;\">\n",
       "      <th></th>\n",
       "      <th>class</th>\n",
       "      <th>Alcohol</th>\n",
       "      <th>Malic_acid</th>\n",
       "      <th>Ash</th>\n",
       "      <th>Alcalinity_of_ash</th>\n",
       "      <th>Magnesium</th>\n",
       "      <th>Total_phenols</th>\n",
       "      <th>Flavanoids</th>\n",
       "      <th>Nonflavanoid_phenols</th>\n",
       "      <th>Proanthocyanins</th>\n",
       "      <th>Color_intensity</th>\n",
       "      <th>Hue</th>\n",
       "      <th>OD280_OD315</th>\n",
       "      <th>Proline</th>\n",
       "    </tr>\n",
       "  </thead>\n",
       "  <tbody>\n",
       "    <tr>\n",
       "      <th>0</th>\n",
       "      <td>1</td>\n",
       "      <td>13.20</td>\n",
       "      <td>1.78</td>\n",
       "      <td>2.14</td>\n",
       "      <td>11.2</td>\n",
       "      <td>100</td>\n",
       "      <td>2.65</td>\n",
       "      <td>2.76</td>\n",
       "      <td>0.26</td>\n",
       "      <td>1.28</td>\n",
       "      <td>4.38</td>\n",
       "      <td>1.05</td>\n",
       "      <td>3.40</td>\n",
       "      <td>1050</td>\n",
       "    </tr>\n",
       "    <tr>\n",
       "      <th>1</th>\n",
       "      <td>1</td>\n",
       "      <td>13.16</td>\n",
       "      <td>2.36</td>\n",
       "      <td>2.67</td>\n",
       "      <td>18.6</td>\n",
       "      <td>101</td>\n",
       "      <td>2.80</td>\n",
       "      <td>3.24</td>\n",
       "      <td>0.30</td>\n",
       "      <td>2.81</td>\n",
       "      <td>5.68</td>\n",
       "      <td>1.03</td>\n",
       "      <td>3.17</td>\n",
       "      <td>1185</td>\n",
       "    </tr>\n",
       "    <tr>\n",
       "      <th>...</th>\n",
       "      <td>...</td>\n",
       "      <td>...</td>\n",
       "      <td>...</td>\n",
       "      <td>...</td>\n",
       "      <td>...</td>\n",
       "      <td>...</td>\n",
       "      <td>...</td>\n",
       "      <td>...</td>\n",
       "      <td>...</td>\n",
       "      <td>...</td>\n",
       "      <td>...</td>\n",
       "      <td>...</td>\n",
       "      <td>...</td>\n",
       "      <td>...</td>\n",
       "    </tr>\n",
       "    <tr>\n",
       "      <th>175</th>\n",
       "      <td>3</td>\n",
       "      <td>13.17</td>\n",
       "      <td>2.59</td>\n",
       "      <td>2.37</td>\n",
       "      <td>20.0</td>\n",
       "      <td>120</td>\n",
       "      <td>1.65</td>\n",
       "      <td>0.68</td>\n",
       "      <td>0.53</td>\n",
       "      <td>1.46</td>\n",
       "      <td>9.30</td>\n",
       "      <td>0.60</td>\n",
       "      <td>1.62</td>\n",
       "      <td>840</td>\n",
       "    </tr>\n",
       "    <tr>\n",
       "      <th>176</th>\n",
       "      <td>3</td>\n",
       "      <td>14.13</td>\n",
       "      <td>4.10</td>\n",
       "      <td>2.74</td>\n",
       "      <td>24.5</td>\n",
       "      <td>96</td>\n",
       "      <td>2.05</td>\n",
       "      <td>0.76</td>\n",
       "      <td>0.56</td>\n",
       "      <td>1.35</td>\n",
       "      <td>9.20</td>\n",
       "      <td>0.61</td>\n",
       "      <td>1.60</td>\n",
       "      <td>560</td>\n",
       "    </tr>\n",
       "  </tbody>\n",
       "</table>\n",
       "<p>177 rows × 14 columns</p>\n",
       "</div>"
      ],
      "text/plain": [
       "     class  Alcohol  Malic_acid   Ash  Alcalinity_of_ash  Magnesium  \\\n",
       "0        1    13.20        1.78  2.14               11.2        100   \n",
       "1        1    13.16        2.36  2.67               18.6        101   \n",
       "..     ...      ...         ...   ...                ...        ...   \n",
       "175      3    13.17        2.59  2.37               20.0        120   \n",
       "176      3    14.13        4.10  2.74               24.5         96   \n",
       "\n",
       "     Total_phenols  Flavanoids  Nonflavanoid_phenols  Proanthocyanins  \\\n",
       "0             2.65        2.76                  0.26             1.28   \n",
       "1             2.80        3.24                  0.30             2.81   \n",
       "..             ...         ...                   ...              ...   \n",
       "175           1.65        0.68                  0.53             1.46   \n",
       "176           2.05        0.76                  0.56             1.35   \n",
       "\n",
       "     Color_intensity   Hue  OD280_OD315  Proline  \n",
       "0               4.38  1.05         3.40     1050  \n",
       "1               5.68  1.03         3.17     1185  \n",
       "..               ...   ...          ...      ...  \n",
       "175             9.30  0.60         1.62      840  \n",
       "176             9.20  0.61         1.60      560  \n",
       "\n",
       "[177 rows x 14 columns]"
      ]
     },
     "metadata": {},
     "output_type": "display_data"
    }
   ],
   "source": [
    "#indexを説明からつける\n",
    "#アルコール,リンゴ酸,灰,灰分のアルカリ度,マグネシウム,総フェノール,フラバノイド\n",
    "#非フラバノイドフェノール,プロアントシアニン,色の濃さ,色相,希釈ワインのOD 280 / OD 315,プロリン\n",
    "columns_name = ['class','Alcohol','Malic_acid','Ash',\n",
    "                'Alcalinity_of_ash','Magnesium','Total_phenols',\n",
    "                'Flavanoids','Nonflavanoid_phenols','Proanthocyanins',\n",
    "                'Color_intensity','Hue','OD280_OD315','Proline']\n",
    "wine.columns = columns_name\n",
    "pd.set_option('display.max_rows', 5)\n",
    "display(wine)"
   ]
  },
  {
   "cell_type": "code",
   "execution_count": 6,
   "metadata": {},
   "outputs": [],
   "source": [
    "# 線形回帰インスタンス\n",
    "REG = linear_model.LinearRegression()"
   ]
  },
  {
   "cell_type": "code",
   "execution_count": 20,
   "metadata": {},
   "outputs": [
    {
     "name": "stdout",
     "output_type": "stream",
     "text": [
      "回帰係数:  [0.13833931]\n",
      "切片:  0.5423513772050061\n",
      "決定係数 0.00999259651850648\n",
      "相関係数 (0.09996297573855276, 0.18556400432463188)\n",
      "回帰係数:  [0.07175021]\n",
      "切片:  1.4338594307459078\n",
      "決定係数 0.04450597608033302\n",
      "相関係数 (0.21096439529061028, 0.004823266909080774)\n",
      "回帰係数:  [0.22039368]\n",
      "切片:  -0.5714633960159854\n",
      "決定係数 0.08096473379061475\n",
      "相関係数 (0.2845430262554591, 0.0001238245400329395)\n",
      "回帰係数:  [1.57456877]\n",
      "切片:  -15.404628390902005\n",
      "決定係数 0.3001757034619045\n",
      "相関係数 (0.5478829286096659, 2.9655579941769435e-15)\n"
     ]
    },
    {
     "data": {
      "image/png": "[encoded data removed]",
      "text/plain": [
       "<Figure size 720x720 with 1 Axes>"
      ]
     },
     "metadata": {
      "needs_background": "light"
     },
     "output_type": "display_data"
    },
    {
     "data": {
      "image/png": "[encoded data removed]",
      "text/plain": [
       "<Figure size 720x720 with 1 Axes>"
      ]
     },
     "metadata": {
      "needs_background": "light"
     },
     "output_type": "display_data"
    },
    {
     "data": {
      "image/png": "[encoded data removed]",
      "text/plain": [
       "<Figure size 720x720 with 1 Axes>"
      ]
     },
     "metadata": {
      "needs_background": "light"
     },
     "output_type": "display_data"
    },
    {
     "data": {
      "image/png": "[encoded data removed]",
      "text/plain": [
       "<Figure size 720x720 with 1 Axes>"
      ]
     },
     "metadata": {
      "needs_background": "light"
     },
     "output_type": "display_data"
    }
   ],
   "source": [
    "p=1\n",
    "reg_score = 0\n",
    "strong_relation = \"\"\n",
    "attributes = ['Malic_acid', 'Ash', 'Total_phenols', 'Color_intensity']\n",
    "for w in attributes:\n",
    "    #説明変数\n",
    "    X = wine.loc[:,['Alcohol']].values\n",
    "    \n",
    "    #目的変数\n",
    "    Y = wine[w].values\n",
    "    \n",
    "    #予測モデルを計算、aとbを算出\n",
    "    REG.fit(X,Y)\n",
    "    \n",
    "    #回帰係数\n",
    "    print(\"回帰係数: \",REG.coef_)\n",
    "    \n",
    "    #切片\n",
    "    print(\"切片: \", REG.intercept_)\n",
    "    \n",
    "    #グラフの大きさを指定する\n",
    "    plt.figure(figsize=(10,10))\n",
    "    plt.subplot(2,2,p)\n",
    "    plt.grid(True)\n",
    "    plt.xlabel('Alcohol')\n",
    "    plt.ylabel(w)\n",
    "    plt.scatter(X,Y)\n",
    "    plt.plot(X, REG.predict(X))\n",
    "    \n",
    "    print('決定係数', REG.score(X,Y))\n",
    "    reg_score_tmp = abs(REG.score(X,Y))\n",
    "    if (reg_score < reg_score_tmp):\n",
    "        reg_score = reg_score_tmp\n",
    "        strong_relation = w\n",
    "    print('相関係数', sp.stats.pearsonr(wine['Alcohol'], wine[w]))"
   ]
  },
  {
   "cell_type": "code",
   "execution_count": 21,
   "metadata": {},
   "outputs": [
    {
     "name": "stdout",
     "output_type": "stream",
     "text": [
      "もっとも相関があるのは「アルコール」と「Color_intensity」\n"
     ]
    }
   ],
   "source": [
    "print ('もっとも相関があるのは「アルコール」と「{}」'.format(strong_relation))"
   ]
  },
  {
   "cell_type": "code",
   "execution_count": 22,
   "metadata": {},
   "outputs": [
    {
     "name": "stdout",
     "output_type": "stream",
     "text": [
      "相関係数は (0.5478829286096659, 2.9655579941769435e-15)\n"
     ]
    }
   ],
   "source": [
    "print('相関係数は', sp.stats.pearsonr(wine['Alcohol'], wine[strong_relation]))"
   ]
  },
  {
   "cell_type": "code",
   "execution_count": null,
   "metadata": {},
   "outputs": [],
   "source": []
  }
 ],
 "metadata": {
  "kernelspec": {
   "display_name": "Python 3",
   "language": "python",
   "name": "python3"
  },
  "language_info": {
   "codemirror_mode": {
    "name": "ipython",
    "version": 3
   },
   "file_extension": ".py",
   "mimetype": "text/x-python",
   "name": "python",
   "nbconvert_exporter": "python",
   "pygments_lexer": "ipython3",
   "version": "3.7.3"
  }
 },
 "nbformat": 4,
 "nbformat_minor": 2
}
