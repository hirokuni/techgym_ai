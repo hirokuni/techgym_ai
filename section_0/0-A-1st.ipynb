{
 "cells": [
  {
   "cell_type": "code",
   "execution_count": 27,
   "metadata": {},
   "outputs": [],
   "source": [
    "import numpy as np\n",
    "\n",
    "data = np.array([9, 2, 3, 4, 10, 6, 7, 8, 1, 5])"
   ]
  },
  {
   "cell_type": "code",
   "execution_count": 28,
   "metadata": {},
   "outputs": [
    {
     "name": "stdout",
     "output_type": "stream",
     "text": [
      "[ 9  2  3  4 10  6  7  8  1  5]\n",
      "次元数: 1\n",
      "要素数: 10\n"
     ]
    }
   ],
   "source": [
    "print(data)\n",
    "print('次元数:', data.ndim)\n",
    "print('要素数:', data.size)"
   ]
  },
  {
   "cell_type": "code",
   "execution_count": 29,
   "metadata": {},
   "outputs": [
    {
     "name": "stdout",
     "output_type": "stream",
     "text": [
      "掛け算: [ 81   4   9  16 100  36  49  64   1  25]\n",
      "塁乗: [ 729    8   27   64 1000  216  343  512    1  125]\n",
      "割り算: [4.5 1.  1.5 2.  5.  3.  3.5 4.  0.5 2.5]\n"
     ]
    }
   ],
   "source": [
    "print('掛け算:', data*data)\n",
    "print('塁乗:', np.power(data,3))\n",
    "print('割り算:', data/2)"
   ]
  },
  {
   "cell_type": "code",
   "execution_count": 30,
   "metadata": {},
   "outputs": [
    {
     "name": "stdout",
     "output_type": "stream",
     "text": [
      "昇順: [ 1  2  3  4  5  6  7  8  9 10]\n"
     ]
    }
   ],
   "source": [
    "print('昇順:', np.sort(data))"
   ]
  },
  {
   "cell_type": "code",
   "execution_count": 33,
   "metadata": {},
   "outputs": [
    {
     "name": "stdout",
     "output_type": "stream",
     "text": [
      "降順 [10  9  8  7  6  5  4  3  2  1]\n",
      "slice [ 9  3 10]\n",
      "data2:  [[ 9  2  3  4 10  6  7  8  1  5]\n",
      " [ 1  2  3  4  5  6  7  8  9 10]]\n",
      "data2 次元反転 [[ 1  2  3  4  5  6  7  8  9 10]\n",
      " [ 9  2  3  4 10  6  7  8  1  5]]\n"
     ]
    }
   ],
   "source": [
    "print('降順', np.sort(data)[::-1])\n",
    "print('slice', data[0:5:2])\n",
    "\n",
    "data2 = np.array([[9, 2, 3, 4, 10, 6, 7, 8, 1, 5],[1,2,3,4,5,6,7,8,9,10]])\n",
    "print('data2: ', data2)\n",
    "print('data2 次元反転',data2[::-1])"
   ]
  },
  {
   "cell_type": "code",
   "execution_count": 38,
   "metadata": {},
   "outputs": [
    {
     "name": "stdout",
     "output_type": "stream",
     "text": [
      "Min:  1\n",
      "Min Index:  8\n"
     ]
    },
    {
     "data": {
      "text/plain": [
       "array([ 9,  2,  3,  4, 10,  6,  7,  8,  1,  5])"
      ]
     },
     "execution_count": 38,
     "metadata": {},
     "output_type": "execute_result"
    }
   ],
   "source": [
    "print('Min: ', np.amin(data))\n",
    "print('Min Index: ', np.argmin(data))\n",
    "data"
   ]
  },
  {
   "cell_type": "code",
   "execution_count": 40,
   "metadata": {},
   "outputs": [
    {
     "name": "stdout",
     "output_type": "stream",
     "text": [
      "Max:  10\n",
      "Max Index:  4\n"
     ]
    }
   ],
   "source": [
    "print('Max: ', np.amax(data))\n",
    "print('Max Index: ', np.argmax(data))"
   ]
  },
  {
   "cell_type": "code",
   "execution_count": 42,
   "metadata": {},
   "outputs": [
    {
     "name": "stdout",
     "output_type": "stream",
     "text": [
      "Sum:  55\n",
      "Sum:  55\n"
     ]
    }
   ],
   "source": [
    "print('Sum: ', np.sum(data))\n",
    "print('Sum: ', data.sum())"
   ]
  },
  {
   "cell_type": "code",
   "execution_count": 43,
   "metadata": {},
   "outputs": [
    {
     "name": "stdout",
     "output_type": "stream",
     "text": [
      "Cum:  [10 19 27 34 40 45 49 52 54 55]\n"
     ]
    }
   ],
   "source": [
    "dOrder = np.sort(data)[::-1]\n",
    "print('Cum: ', dOrder.cumsum())"
   ]
  },
  {
   "cell_type": "code",
   "execution_count": 45,
   "metadata": {},
   "outputs": [
    {
     "name": "stdout",
     "output_type": "stream",
     "text": [
      "Ratio: [0.18181818 0.34545455 0.49090909 0.61818182 0.72727273 0.81818182\n",
      " 0.89090909 0.94545455 0.98181818 1.        ]\n"
     ]
    }
   ],
   "source": [
    "Sum = data.sum()\n",
    "print('Ratio:', dOrder.cumsum()/Sum)"
   ]
  },
  {
   "cell_type": "code",
   "execution_count": null,
   "metadata": {},
   "outputs": [],
   "source": []
  }
 ],
 "metadata": {
  "kernelspec": {
   "display_name": "Python 3",
   "language": "python",
   "name": "python3"
  },
  "language_info": {
   "codemirror_mode": {
    "name": "ipython",
    "version": 3
   },
   "file_extension": ".py",
   "mimetype": "text/x-python",
   "name": "python",
   "nbconvert_exporter": "python",
   "pygments_lexer": "ipython3",
   "version": "3.7.0"
  }
 },
 "nbformat": 4,
 "nbformat_minor": 2
}
