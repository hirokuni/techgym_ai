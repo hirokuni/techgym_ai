{
 "cells": [
  {
   "cell_type": "code",
   "execution_count": 1,
   "metadata": {},
   "outputs": [],
   "source": [
    "import pandas as pd\n",
    "import urllib\n",
    "import matplotlib.pyplot as plt\n",
    "%matplotlib inline\n",
    "\n",
    "#線形重回帰\n",
    "from sklearn.linear_model import LinearRegression\n",
    "#データ分割\n",
    "from sklearn.model_selection import train_test_split"
   ]
  },
  {
   "cell_type": "code",
   "execution_count": 2,
   "metadata": {},
   "outputs": [],
   "source": [
    "#データの取得\n",
    "data = \"http://archive.ics.uci.edu/ml/machine-learning-databases/wine/wine.data\"\n",
    "wine = pd.read_csv(data)"
   ]
  },
  {
   "cell_type": "code",
   "execution_count": 3,
   "metadata": {},
   "outputs": [],
   "source": [
    "\n",
    "#indexを説明からつける\n",
    "#アルコール,リンゴ酸,灰,灰分のアルカリ度,マグネシウム,総フェノール,フラバノイド\n",
    "#非フラバノイドフェノール,プロアントシアニン,色の濃さ,色相,希釈ワインのOD 280 / OD 315,プロリン\n",
    "columns_name = ['class','Alcohol','Malic_acid','Ash',\n",
    "                'Alcalinity_of_ash','Magnesium','Total_phenols',\n",
    "                'Flavanoids','Nonflavanoid_phenols','Proanthocyanins',\n",
    "                'Color_intensity','Hue','OD280_OD315','Proline']\n",
    "wine.columns = columns_name"
   ]
  },
  {
   "cell_type": "code",
   "execution_count": 4,
   "metadata": {},
   "outputs": [],
   "source": [
    "#回帰分析用のデータフレーム\n",
    "wine_n = wine[['Alcohol' , 'Magnesium' , 'Total_phenols' , 'Flavanoids' , 'Color_intensity' , 'Proline']]"
   ]
  },
  {
   "cell_type": "code",
   "execution_count": 5,
   "metadata": {},
   "outputs": [
    {
     "data": {
      "text/plain": [
       "class                   0\n",
       "Alcohol                 0\n",
       "Malic_acid              0\n",
       "Ash                     0\n",
       "Alcalinity_of_ash       0\n",
       "Magnesium               0\n",
       "Total_phenols           0\n",
       "Flavanoids              0\n",
       "Nonflavanoid_phenols    0\n",
       "Proanthocyanins         0\n",
       "Color_intensity         0\n",
       "Hue                     0\n",
       "OD280_OD315             0\n",
       "Proline                 0\n",
       "dtype: int64"
      ]
     },
     "execution_count": 5,
     "metadata": {},
     "output_type": "execute_result"
    }
   ],
   "source": [
    "#欠損値がないかの確認\n",
    "wine.isnull().sum()"
   ]
  },
  {
   "cell_type": "code",
   "execution_count": 6,
   "metadata": {},
   "outputs": [],
   "source": [
    "x =wine_n.drop('Alcohol', axis=1) #説明変数\n",
    "y = wine_n['Alcohol']#目的変数"
   ]
  },
  {
   "cell_type": "code",
   "execution_count": 7,
   "metadata": {},
   "outputs": [],
   "source": [
    "#訓練用のデータとテストようのデータに分ける\n",
    "x_train, x_test, y_train, y_test = train_test_split(x, y, test_size = 0.5, random_state=0)"
   ]
  },
  {
   "cell_type": "code",
   "execution_count": 10,
   "metadata": {},
   "outputs": [
    {
     "data": {
      "text/plain": [
       "LinearRegression(copy_X=True, fit_intercept=True, n_jobs=None,\n",
       "         normalize=False)"
      ]
     },
     "execution_count": 10,
     "metadata": {},
     "output_type": "execute_result"
    }
   ],
   "source": [
    "# 重回帰クラスの初期化と学習\n",
    "model = LinearRegression()\n",
    "model.fit(x_train, y_train)"
   ]
  },
  {
   "cell_type": "code",
   "execution_count": 20,
   "metadata": {},
   "outputs": [
    {
     "name": "stdout",
     "output_type": "stream",
     "text": [
      "決定係数(train):0.555\n",
      "決定係数(test):0.496\n"
     ]
    }
   ],
   "source": [
    "# 決定係数の計算\n",
    "k_train = model.score(x_train, y_train)\n",
    "k_test = model.score(x_test, y_test)\n",
    "# 決定係数を表示\n",
    "print ('決定係数(train):{:.3f}'.format(k_train))\n",
    "print ('決定係数(test):{:.3f}'.format(k_test))"
   ]
  },
  {
   "cell_type": "code",
   "execution_count": 23,
   "metadata": {},
   "outputs": [
    {
     "name": "stdout",
     "output_type": "stream",
     "text": [
      "回帰係数Magnesium         -0.000932\n",
      "Total_phenols      0.340739\n",
      "Flavanoids        -0.078025\n",
      "Color_intensity    0.154615\n",
      "Proline            0.000955\n",
      "dtype: float64\n",
      "回帰係数0   -0.000932\n",
      "1    0.340739\n",
      "2   -0.078025\n",
      "3    0.154615\n",
      "4    0.000955\n",
      "dtype: float64\n"
     ]
    }
   ],
   "source": [
    "#回帰係数と切片を表示\n",
    "print('回帰係数{}'.format(pd.Series(model.coef_, index=x.columns)))\n",
    "print('回帰係数{}'.format(pd.Series(model.coef_)))"
   ]
  },
  {
   "cell_type": "code",
   "execution_count": 22,
   "metadata": {},
   "outputs": [
    {
     "name": "stdout",
     "output_type": "stream",
     "text": [
      "切片: 11.004\n"
     ]
    }
   ],
   "source": [
    "print('切片: {:.3f}'.format(model.intercept_))"
   ]
  },
  {
   "cell_type": "code",
   "execution_count": null,
   "metadata": {},
   "outputs": [],
   "source": []
  }
 ],
 "metadata": {
  "kernelspec": {
   "display_name": "Python 3",
   "language": "python",
   "name": "python3"
  },
  "language_info": {
   "codemirror_mode": {
    "name": "ipython",
    "version": 3
   },
   "file_extension": ".py",
   "mimetype": "text/x-python",
   "name": "python",
   "nbconvert_exporter": "python",
   "pygments_lexer": "ipython3",
   "version": "3.7.3"
  }
 },
 "nbformat": 4,
 "nbformat_minor": 2
}
