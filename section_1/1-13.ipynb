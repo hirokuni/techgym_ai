{
 "cells": [
  {
   "cell_type": "code",
   "execution_count": 1,
   "metadata": {},
   "outputs": [],
   "source": [
    "import urllib.request\n",
    "import os\n",
    "from gensim.models import Word2Vec\n",
    "from gensim.models.keyedvectors import KeyedVectors"
   ]
  },
  {
   "cell_type": "code",
   "execution_count": 2,
   "metadata": {},
   "outputs": [
    {
     "name": "stdout",
     "output_type": "stream",
     "text": [
      "Exists\n"
     ]
    }
   ],
   "source": [
    "title = \"stanby-jobs-200d-word2vector.bin\"\n",
    "if not os.path.exists(title):\n",
    "    print('Downloading ', title)\n",
    "    url = \"https://github.com/bizreach/ai/releases/download/2018-03-13/stanby-jobs-200d-word2vector.bin\"\n",
    "    urllib.request.urlretrieve(url, title)\n",
    "else:\n",
    "    print('Exists')"
   ]
  },
  {
   "cell_type": "code",
   "execution_count": 3,
   "metadata": {},
   "outputs": [],
   "source": [
    "w2v = KeyedVectors.load_word2vec_format(title, binary=True)"
   ]
  },
  {
   "cell_type": "code",
   "execution_count": 4,
   "metadata": {},
   "outputs": [],
   "source": [
    "#  w2v.save_word2vec_format(\"stanby-jobs-200d-word2vector.txt\", binary=False)"
   ]
  },
  {
   "cell_type": "code",
   "execution_count": 5,
   "metadata": {},
   "outputs": [
    {
     "name": "stdout",
     "output_type": "stream",
     "text": [
      "('最新技術', 0.7041546106338501)\n",
      "('IT技術', 0.6744983196258545)\n",
      "('デジタルマーケティング', 0.656234622001648)\n",
      "('先端技術', 0.642486572265625)\n",
      "('ソリューション', 0.6346931457519531)\n"
     ]
    }
   ],
   "source": [
    "words = w2v.most_similar(\"テクノロジー\", topn=5)\n",
    "for word in words:\n",
    "    print(word)"
   ]
  },
  {
   "cell_type": "code",
   "execution_count": 6,
   "metadata": {},
   "outputs": [
    {
     "name": "stdout",
     "output_type": "stream",
     "text": [
      "('IT', 0.6887780427932739)\n",
      "('IT技術', 0.6673658490180969)\n",
      "('IoT', 0.6592386960983276)\n",
      "('ICT', 0.6535420417785645)\n",
      "('アドテク', 0.6486170291900635)\n"
     ]
    }
   ],
   "source": [
    "words = w2v.most_similar(positive=[\"テクノロジー\", \"金融\"], topn=5)\n",
    "for word in words:\n",
    "    print(word)"
   ]
  },
  {
   "cell_type": "code",
   "execution_count": 7,
   "metadata": {},
   "outputs": [
    {
     "data": {
      "text/plain": [
       "[('経済', 0.5113113522529602),\n",
       " ('IT技術', 0.5090200901031494),\n",
       " ('最新技術', 0.5017967224121094),\n",
       " ('証券', 0.5012056231498718),\n",
       " ('インダストリーグループ', 0.4920734167098999)]"
      ]
     },
     "execution_count": 7,
     "metadata": {},
     "output_type": "execute_result"
    }
   ],
   "source": [
    "w2v.most_similar(positive=[\"テクノロジー\", \"金融\"], negative=[\"IT\"], topn=5)"
   ]
  },
  {
   "cell_type": "code",
   "execution_count": 8,
   "metadata": {},
   "outputs": [
    {
     "data": {
      "text/plain": [
       "[('テクノロジー', 1.0),\n",
       " ('最新技術', 0.7041546106338501),\n",
       " ('IT技術', 0.6744982600212097),\n",
       " ('デジタルマーケティング', 0.656234622001648),\n",
       " ('先端技術', 0.6424865126609802)]"
      ]
     },
     "execution_count": 8,
     "metadata": {},
     "output_type": "execute_result"
    }
   ],
   "source": [
    "vector = w2v[\"テクノロジー\"]\n",
    "w2v.similar_by_vector(vector, topn=5)"
   ]
  },
  {
   "cell_type": "code",
   "execution_count": 9,
   "metadata": {},
   "outputs": [
    {
     "data": {
      "text/plain": [
       "0.7041547"
      ]
     },
     "execution_count": 9,
     "metadata": {},
     "output_type": "execute_result"
    }
   ],
   "source": [
    "# コサイン類似度\n",
    "import numpy as np\n",
    "def cos_sim(v1, v2):\n",
    "    return np.dot(v1, v2)/(np.linalg.norm(v1)*np.linalg.norm(v2))\n",
    "cos_sim(w2v[\"テクノロジー\"], w2v['最新技術'])"
   ]
  },
  {
   "cell_type": "markdown",
   "metadata": {},
   "source": [
    "# (2)[Java]と[PHP]のコサイン類似度"
   ]
  },
  {
   "cell_type": "code",
   "execution_count": 10,
   "metadata": {},
   "outputs": [
    {
     "data": {
      "text/plain": [
       "0.9362092"
      ]
     },
     "execution_count": 10,
     "metadata": {},
     "output_type": "execute_result"
    }
   ],
   "source": [
    "cos_sim(w2v['Java'],w2v['PHP'])"
   ]
  },
  {
   "cell_type": "markdown",
   "metadata": {},
   "source": [
    "# (3) "
   ]
  },
  {
   "cell_type": "code",
   "execution_count": 11,
   "metadata": {},
   "outputs": [],
   "source": [
    "import pandas as pd"
   ]
  },
  {
   "cell_type": "code",
   "execution_count": 16,
   "metadata": {},
   "outputs": [
    {
     "data": {
      "text/plain": [
       "Index(['words'], dtype='object')"
      ]
     },
     "execution_count": 16,
     "metadata": {},
     "output_type": "execute_result"
    }
   ],
   "source": [
    "df = pd.read_csv('./words.csv')\n",
    "df_ = df\n",
    "df.keys()"
   ]
  },
  {
   "cell_type": "code",
   "execution_count": 25,
   "metadata": {},
   "outputs": [
    {
     "name": "stdout",
     "output_type": "stream",
     "text": [
      "合計\n",
      "遣唐使\n"
     ]
    }
   ],
   "source": [
    "print(df['words'][0])\n",
    "print(df['words'][1])\n"
   ]
  },
  {
   "cell_type": "code",
   "execution_count": 26,
   "metadata": {},
   "outputs": [
    {
     "data": {
      "text/plain": [
       "[['関東', '関西', 0.7552339],\n",
       " ['北', '西', 0.81898963],\n",
       " ['海', '山', 0.710297],\n",
       " ['長崎', '福岡', 0.74066913],\n",
       " ['福岡', '東京', 0.7367493],\n",
       " ['いろいろ', '色々', 0.7147816],\n",
       " ['関西', '九州', 0.71936744]]"
      ]
     },
     "execution_count": 26,
     "metadata": {},
     "output_type": "execute_result"
    }
   ],
   "source": [
    "results = []\n",
    "for index, row in df.iterrows():\n",
    "#     print(\"index: {}, row: {}\".format(index, row['words']))\n",
    "#     if index > 100:\n",
    "#         break;\n",
    "    if index != df.size - 1:\n",
    "        for i in range(index + 1, df.size):\n",
    "            try:\n",
    "                similarity = w2v.similarity(row['words'], df['words'][i])\n",
    "#                 print(\"{}, {}, {}, {}\".format(i, row['words'], df['words'][i], similarity))\n",
    "                if similarity > 0.7:\n",
    "                    results.append ([row['words'],  df['words'][i], similarity])\n",
    "#                     print(\"{}, {}, {}\".format(row['words'], df['words'][i], similarity))\n",
    "            except:\n",
    "                pass\n",
    "    else:\n",
    "        break\n",
    "results"
   ]
  },
  {
   "cell_type": "code",
   "execution_count": 27,
   "metadata": {},
   "outputs": [],
   "source": [
    "# resutls = []\n",
    "# for i in df['words'].values:\n",
    "#     for j in df_['words'].values:\n",
    "#         try:\n",
    "#             similarity = w2v.similarity(i,j)\n",
    "# #             print('{}, {}, {}'.format(i,j,similarity))\n",
    "#             if similarity < 0.99 and similarity > 0.7:\n",
    "#                 results.append([i,j,str(similarity)])\n",
    "#         except:\n",
    "#             pass\n",
    "# results"
   ]
  },
  {
   "cell_type": "code",
   "execution_count": 28,
   "metadata": {},
   "outputs": [],
   "source": [
    "df_ = pd.DataFrame(results, columns=['単語A', '単語B','コサイン類似度'])"
   ]
  },
  {
   "cell_type": "code",
   "execution_count": 31,
   "metadata": {},
   "outputs": [
    {
     "data": {
      "text/html": [
       "<div>\n",
       "<style scoped>\n",
       "    .dataframe tbody tr th:only-of-type {\n",
       "        vertical-align: middle;\n",
       "    }\n",
       "\n",
       "    .dataframe tbody tr th {\n",
       "        vertical-align: top;\n",
       "    }\n",
       "\n",
       "    .dataframe thead th {\n",
       "        text-align: right;\n",
       "    }\n",
       "</style>\n",
       "<table border=\"1\" class=\"dataframe\">\n",
       "  <thead>\n",
       "    <tr style=\"text-align: right;\">\n",
       "      <th></th>\n",
       "      <th>単語A</th>\n",
       "      <th>単語B</th>\n",
       "      <th>コサイン類似度</th>\n",
       "    </tr>\n",
       "  </thead>\n",
       "  <tbody>\n",
       "    <tr>\n",
       "      <th>0</th>\n",
       "      <td>関東</td>\n",
       "      <td>関西</td>\n",
       "      <td>0.755234</td>\n",
       "    </tr>\n",
       "    <tr>\n",
       "      <th>1</th>\n",
       "      <td>北</td>\n",
       "      <td>西</td>\n",
       "      <td>0.818990</td>\n",
       "    </tr>\n",
       "    <tr>\n",
       "      <th>2</th>\n",
       "      <td>海</td>\n",
       "      <td>山</td>\n",
       "      <td>0.710297</td>\n",
       "    </tr>\n",
       "    <tr>\n",
       "      <th>3</th>\n",
       "      <td>長崎</td>\n",
       "      <td>福岡</td>\n",
       "      <td>0.740669</td>\n",
       "    </tr>\n",
       "    <tr>\n",
       "      <th>4</th>\n",
       "      <td>福岡</td>\n",
       "      <td>東京</td>\n",
       "      <td>0.736749</td>\n",
       "    </tr>\n",
       "    <tr>\n",
       "      <th>5</th>\n",
       "      <td>いろいろ</td>\n",
       "      <td>色々</td>\n",
       "      <td>0.714782</td>\n",
       "    </tr>\n",
       "    <tr>\n",
       "      <th>6</th>\n",
       "      <td>関西</td>\n",
       "      <td>九州</td>\n",
       "      <td>0.719367</td>\n",
       "    </tr>\n",
       "  </tbody>\n",
       "</table>\n",
       "</div>"
      ],
      "text/plain": [
       "    単語A 単語B   コサイン類似度\n",
       "0    関東  関西  0.755234\n",
       "1     北   西  0.818990\n",
       "2     海   山  0.710297\n",
       "3    長崎  福岡  0.740669\n",
       "4    福岡  東京  0.736749\n",
       "5  いろいろ  色々  0.714782\n",
       "6    関西  九州  0.719367"
      ]
     },
     "execution_count": 31,
     "metadata": {},
     "output_type": "execute_result"
    }
   ],
   "source": [
    "df_"
   ]
  },
  {
   "cell_type": "code",
   "execution_count": 32,
   "metadata": {},
   "outputs": [],
   "source": [
    "# for i in range(1,3):\n",
    "#     print (i)"
   ]
  },
  {
   "cell_type": "code",
   "execution_count": null,
   "metadata": {},
   "outputs": [],
   "source": []
  }
 ],
 "metadata": {
  "kernelspec": {
   "display_name": "Python 3",
   "language": "python",
   "name": "python3"
  },
  "language_info": {
   "codemirror_mode": {
    "name": "ipython",
    "version": 3
   },
   "file_extension": ".py",
   "mimetype": "text/x-python",
   "name": "python",
   "nbconvert_exporter": "python",
   "pygments_lexer": "ipython3",
   "version": "3.7.3"
  }
 },
 "nbformat": 4,
 "nbformat_minor": 2
}
