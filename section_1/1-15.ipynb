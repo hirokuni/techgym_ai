{
 "cells": [
  {
   "cell_type": "markdown",
   "metadata": {},
   "source": [
    "# (1)"
   ]
  },
  {
   "cell_type": "code",
   "execution_count": 1,
   "metadata": {},
   "outputs": [],
   "source": [
    "from gensim.models import KeyedVectors"
   ]
  },
  {
   "cell_type": "code",
   "execution_count": 2,
   "metadata": {},
   "outputs": [],
   "source": [
    "MODEL_FILENAME = \"./stanby-jobs-200d-word2vector.bin\"\n",
    "w2v = KeyedVectors.load_word2vec_format(MODEL_FILENAME, binary = True)"
   ]
  },
  {
   "cell_type": "code",
   "execution_count": 31,
   "metadata": {},
   "outputs": [
    {
     "name": "stdout",
     "output_type": "stream",
     "text": [
      "単語を入力してください\n",
      "q\n",
      "終了\n"
     ]
    }
   ],
   "source": [
    "while True:\n",
    "    print('単語を入力してください')\n",
    "    word = input()\n",
    "    if word == 'q':\n",
    "        break;\n",
    "    try:\n",
    "        job = w2v.most_similar(word, topn=1)\n",
    "        print('もっとも類似する単語は {} です'.format(job[0][0]))\n",
    "    except:\n",
    "        print('不明な単語です')\n",
    "\n",
    "print(\"終了\")"
   ]
  },
  {
   "cell_type": "code",
   "execution_count": null,
   "metadata": {},
   "outputs": [],
   "source": [
    "while True:\n",
    "    print('> 単語を入力してください')\n",
    "    word = input()\n",
    "    if word == 'q':\n",
    "        break;\n",
    "    try:\n",
    "        job = w2v.most_similar(word, topn=1)\n",
    "        print('{}と言ったら{}です'.format(word, job[0][0]))\n",
    "        print('{}と言ったら'.format(job[0][0]))\n",
    "    except:\n",
    "        print('不明な単語です. もう一度入力してください')\n",
    "\n",
    "print(\"終了\")"
   ]
  },
  {
   "cell_type": "code",
   "execution_count": null,
   "metadata": {},
   "outputs": [],
   "source": []
  }
 ],
 "metadata": {
  "kernelspec": {
   "display_name": "Python 3",
   "language": "python",
   "name": "python3"
  },
  "language_info": {
   "codemirror_mode": {
    "name": "ipython",
    "version": 3
   },
   "file_extension": ".py",
   "mimetype": "text/x-python",
   "name": "python",
   "nbconvert_exporter": "python",
   "pygments_lexer": "ipython3",
   "version": "3.7.3"
  }
 },
 "nbformat": 4,
 "nbformat_minor": 2
}
