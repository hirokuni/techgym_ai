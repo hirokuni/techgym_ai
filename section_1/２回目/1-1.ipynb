{
 "cells": [
  {
   "cell_type": "code",
   "execution_count": 1,
   "metadata": {},
   "outputs": [],
   "source": [
    "import pandas as pd\n",
    "import numpy as np"
   ]
  },
  {
   "cell_type": "code",
   "execution_count": 2,
   "metadata": {},
   "outputs": [],
   "source": [
    "Sample = np.array([[ -2.32496308,  -6.6999964 ],\n",
    "       [  0.51856831,  -4.90086804],\n",
    "       [  2.44301805,   3.84652646],\n",
    "       [  5.82662285,  -9.92259335],\n",
    "       [  2.03300209,   5.28990817],\n",
    "       [  3.37979515,   4.18880872],\n",
    "       [  6.04774884, -10.30504657],\n",
    "       [ -0.42084194,  -4.24889336],\n",
    "       [  3.78067293,   5.22062163],\n",
    "       [  5.69248303,  -7.19999368],\n",
    "       [  5.15909568, -10.13427003],\n",
    "       [  1.16464321,   5.59667831],\n",
    "       [  2.94601402,   3.3575069 ],\n",
    "       [  1.1882891 ,  -5.56058781],\n",
    "       [ -0.31748917,  -6.86337766],\n",
    "       [  4.32968132,   5.64396726],\n",
    "       [  4.28981065,  -9.44982413],\n",
    "       [  3.49996332,   3.02156553],\n",
    "       [  5.31414039,  -9.94714146],\n",
    "       [  2.61105267,   4.22218469],\n",
    "       [  4.88653379,  -8.87680099],\n",
    "       [  1.95552599,  -4.05690149],\n",
    "       [  2.09985134,   3.6556301 ],\n",
    "       [  1.31468967,  -5.01055177],\n",
    "       [  5.52556208,  -8.18696464],\n",
    "       [  0.81677922,   4.75330395],\n",
    "       [  2.52859794,   4.5759393 ],\n",
    "       [  3.69548081,   5.14288792],\n",
    "       [  2.37698085,   5.82428626],\n",
    "       [  5.69192445,  -9.47641249],\n",
    "       [  0.91726632,  -6.52637778],\n",
    "       [  1.44712872,   4.75428451],\n",
    "       [  2.96590542,   4.5052704 ],\n",
    "       [  6.68288513, -10.31693051],\n",
    "       [ -0.43558928,  -4.7222919 ],\n",
    "       [  0.34789333,  -3.88965912],\n",
    "       [  0.97700138,  -5.7984931 ],\n",
    "       [  2.45717481,   5.96515011],\n",
    "       [  2.60711685,   2.84436554],\n",
    "       [  2.89022984,   2.98168388]])\n",
    "\n",
    "cluster_df = pd.DataFrame(Sample)"
   ]
  },
  {
   "cell_type": "code",
   "execution_count": 3,
   "metadata": {},
   "outputs": [],
   "source": [
    "from sklearn.cluster import KMeans"
   ]
  },
  {
   "cell_type": "code",
   "execution_count": 4,
   "metadata": {},
   "outputs": [],
   "source": [
    "k = KMeans(init='random', n_clusters = 3)"
   ]
  },
  {
   "cell_type": "code",
   "execution_count": 5,
   "metadata": {},
   "outputs": [
    {
     "data": {
      "text/plain": [
       "KMeans(algorithm='auto', copy_x=True, init='random', max_iter=300,\n",
       "    n_clusters=3, n_init=10, n_jobs=None, precompute_distances='auto',\n",
       "    random_state=None, tol=0.0001, verbose=0)"
      ]
     },
     "execution_count": 5,
     "metadata": {},
     "output_type": "execute_result"
    }
   ],
   "source": [
    "k.fit(cluster_df)"
   ]
  },
  {
   "cell_type": "code",
   "execution_count": 6,
   "metadata": {},
   "outputs": [],
   "source": [
    "pred = k.predict(cluster_df)"
   ]
  },
  {
   "cell_type": "code",
   "execution_count": 7,
   "metadata": {},
   "outputs": [],
   "source": [
    "cluster_df['2'] = pred\n",
    "cluster_df.columns = ['X','Y',\"Cluster\"]"
   ]
  },
  {
   "cell_type": "markdown",
   "metadata": {},
   "source": [
    "# 3"
   ]
  },
  {
   "cell_type": "code",
   "execution_count": 14,
   "metadata": {},
   "outputs": [],
   "source": [
    "df_0 = cluster_df[cluster_df['Cluster'] == 0]\n",
    "df_1 = cluster_df[cluster_df['Cluster'] == 1]\n",
    "df_2 = cluster_df[cluster_df['Cluster'] == 2]"
   ]
  },
  {
   "cell_type": "code",
   "execution_count": 15,
   "metadata": {},
   "outputs": [],
   "source": [
    "import matplotlib.pyplot as plt\n",
    "%matplotlib inline"
   ]
  },
  {
   "cell_type": "code",
   "execution_count": 20,
   "metadata": {},
   "outputs": [
    {
     "data": {
      "image/png": "[encoded data removed]",
      "text/plain": [
       "<Figure size 720x720 with 1 Axes>"
      ]
     },
     "metadata": {
      "needs_background": "light"
     },
     "output_type": "display_data"
    }
   ],
   "source": [
    "plt.figure(figsize=(10,10))\n",
    "plt.scatter(df_0['X'],df_0['Y'],color='blue', label=\"cluster 0\")\n",
    "plt.scatter(df_1['X'],df_1['Y'],color='red', label=\"cluster 1\")\n",
    "plt.scatter(df_2['X'],df_2['Y'],color='green', label=\"cluster 2\")\n",
    "plt.legend(loc = 'upper left')\n",
    "plt.show()"
   ]
  },
  {
   "cell_type": "code",
   "execution_count": null,
   "metadata": {},
   "outputs": [],
   "source": []
  }
 ],
 "metadata": {
  "kernelspec": {
   "display_name": "Python 3",
   "language": "python",
   "name": "python3"
  },
  "language_info": {
   "codemirror_mode": {
    "name": "ipython",
    "version": 3
   },
   "file_extension": ".py",
   "mimetype": "text/x-python",
   "name": "python",
   "nbconvert_exporter": "python",
   "pygments_lexer": "ipython3",
   "version": "3.7.3"
  }
 },
 "nbformat": 4,
 "nbformat_minor": 2
}
