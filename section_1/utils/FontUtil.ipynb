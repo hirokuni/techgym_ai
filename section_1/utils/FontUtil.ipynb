{
 "cells": [
  {
   "cell_type": "code",
   "execution_count": 2,
   "metadata": {},
   "outputs": [],
   "source": [
    "#フォントの準備\n",
    "import urllib.request as req\n",
    "\n",
    "def get_font_file_name():\n",
    "    return './Osaka.ttc'\n",
    "\n",
    "def retrieveOsaka():    \n",
    "    url = \"https://github.com/hokuto-HIRANO/Word2Vec/raw/master/font/Osaka.ttc\"\n",
    "    req.urlretrieve(url, get_font_file_name)\n",
    "    return  file_name"
   ]
  },
  {
   "cell_type": "code",
   "execution_count": null,
   "metadata": {},
   "outputs": [],
   "source": []
  }
 ],
 "metadata": {
  "kernelspec": {
   "display_name": "Python 3",
   "language": "python",
   "name": "python3"
  },
  "language_info": {
   "codemirror_mode": {
    "name": "ipython",
    "version": 3
   },
   "file_extension": ".py",
   "mimetype": "text/x-python",
   "name": "python",
   "nbconvert_exporter": "python",
   "pygments_lexer": "ipython3",
   "version": "3.7.3"
  }
 },
 "nbformat": 4,
 "nbformat_minor": 2
}
