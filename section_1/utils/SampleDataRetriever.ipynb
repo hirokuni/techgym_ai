{
 "cells": [
  {
   "cell_type": "code",
   "execution_count": 8,
   "metadata": {},
   "outputs": [],
   "source": [
    "import urllib.request\n",
    "import zipfile\n",
    "import re"
   ]
  },
  {
   "cell_type": "code",
   "execution_count": 11,
   "metadata": {},
   "outputs": [],
   "source": [
    "def retrieve_rojin_to_umi():\n",
    "    url = 'https://www.aozora.gr.jp/cards/001847/files/57347_ruby_57225.zip'\n",
    "    zip = '57347_ruby_57225.zip'\n",
    "    urllib.request.urlretrieve(url, zip)\n",
    "\n",
    "    with zipfile.ZipFile(zip,'r') as myzip:\n",
    "        myzip.extractall()\n",
    "        for myfile in myzip.infolist():\n",
    "            print('Extracted file: ', myfile)\n",
    "            with open(myfile.filename, encoding='sjis') as f:\n",
    "                text = f.read()\n",
    "            \n",
    "    text = re.split('\\-{5,}',text)[2]   # ヘッダ部分の除去\n",
    "    text = re.split('底本：',text)[0]   # フッタ部分の除去\n",
    "    text = text.replace('|', '')        # | の除去\n",
    "    text = re.sub('《.+?》', '', text)  # ルビの削除\n",
    "    text = re.sub('［＃.+?］', '',text) # 入力注の削除\n",
    "    text = re.sub('\\n\\n', '\\n', text)   # 空行の削除\n",
    "    text = re.sub('\\r', '', text)\n",
    "    \n",
    "    return text"
   ]
  },
  {
   "cell_type": "code",
   "execution_count": null,
   "metadata": {},
   "outputs": [],
   "source": []
  }
 ],
 "metadata": {
  "kernelspec": {
   "display_name": "Python 3",
   "language": "python",
   "name": "python3"
  },
  "language_info": {
   "codemirror_mode": {
    "name": "ipython",
    "version": 3
   },
   "file_extension": ".py",
   "mimetype": "text/x-python",
   "name": "python",
   "nbconvert_exporter": "python",
   "pygments_lexer": "ipython3",
   "version": "3.7.3"
  }
 },
 "nbformat": 4,
 "nbformat_minor": 2
}
