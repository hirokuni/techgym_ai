{
 "cells": [
  {
   "cell_type": "code",
   "execution_count": null,
   "metadata": {},
   "outputs": [],
   "source": [
    "import numpy as np\n",
    "import numpy.random as random\n",
    "import pandas as pd"
   ]
  },
  {
   "cell_type": "code",
   "execution_count": null,
   "metadata": {},
   "outputs": [],
   "source": [
    "import matplotlib.pyplot as plt\n",
    "%matplotlib inline"
   ]
  },
  {
   "cell_type": "code",
   "execution_count": null,
   "metadata": {},
   "outputs": [],
   "source": [
    "from sklearn.cluster import KMeans"
   ]
  },
  {
   "cell_type": "code",
   "execution_count": null,
   "metadata": {},
   "outputs": [],
   "source": [
    "Sample = np.array([[ -2.32496308,  -6.6999964 ],\n",
    "       [  0.51856831,  -4.90086804],\n",
    "       [  2.44301805,   3.84652646],\n",
    "       [  5.82662285,  -9.92259335],\n",
    "       [  2.03300209,   5.28990817],\n",
    "       [  3.37979515,   4.18880872],\n",
    "       [  6.04774884, -10.30504657],\n",
    "       [ -0.42084194,  -4.24889336],\n",
    "       [  3.78067293,   5.22062163],\n",
    "       [  5.69248303,  -7.19999368],\n",
    "       [  5.15909568, -10.13427003],\n",
    "       [  1.16464321,   5.59667831],\n",
    "       [  2.94601402,   3.3575069 ],\n",
    "       [  1.1882891 ,  -5.56058781],\n",
    "       [ -0.31748917,  -6.86337766],\n",
    "       [  4.32968132,   5.64396726],\n",
    "       [  4.28981065,  -9.44982413],\n",
    "       [  3.49996332,   3.02156553],\n",
    "       [  5.31414039,  -9.94714146],\n",
    "       [  2.61105267,   4.22218469],\n",
    "       [  4.88653379,  -8.87680099],\n",
    "       [  1.95552599,  -4.05690149],\n",
    "       [  2.09985134,   3.6556301 ],\n",
    "       [  1.31468967,  -5.01055177],\n",
    "       [  5.52556208,  -8.18696464],\n",
    "       [  0.81677922,   4.75330395],\n",
    "       [  2.52859794,   4.5759393 ],\n",
    "       [  3.69548081,   5.14288792],\n",
    "       [  2.37698085,   5.82428626],\n",
    "       [  5.69192445,  -9.47641249],\n",
    "       [  0.91726632,  -6.52637778],\n",
    "       [  1.44712872,   4.75428451],\n",
    "       [  2.96590542,   4.5052704 ],\n",
    "       [  6.68288513, -10.31693051],\n",
    "       [ -0.43558928,  -4.7222919 ],\n",
    "       [  0.34789333,  -3.88965912],\n",
    "       [  0.97700138,  -5.7984931 ],\n",
    "       [  2.45717481,   5.96515011],\n",
    "       [  2.60711685,   2.84436554],\n",
    "       [  2.89022984,   2.98168388]])"
   ]
  },
  {
   "cell_type": "code",
   "execution_count": null,
   "metadata": {},
   "outputs": [],
   "source": [
    "cluster_df = pd.DataFrame(Sample)\n",
    "cluster_df.columns = ['X','Y']\n",
    "X = cluster_df['X']\n",
    "Y = cluster_df['Y']"
   ]
  },
  {
   "cell_type": "code",
   "execution_count": null,
   "metadata": {},
   "outputs": [],
   "source": [
    "# plt.figure(figsize=(10,10))\n",
    "plt.scatter(X,Y, c='black')"
   ]
  },
  {
   "cell_type": "code",
   "execution_count": null,
   "metadata": {},
   "outputs": [],
   "source": [
    "k_means = KMeans(n_clusters=3, init='random')"
   ]
  },
  {
   "cell_type": "code",
   "execution_count": null,
   "metadata": {},
   "outputs": [],
   "source": [
    "# k_means.fit(cluster_df)\n",
    "k_means.fit(cluster_df)\n",
    "y_pred = k_means.predict(cluster_df)"
   ]
  },
  {
   "cell_type": "code",
   "execution_count": null,
   "metadata": {},
   "outputs": [],
   "source": [
    "k_means.get_params()"
   ]
  },
  {
   "cell_type": "code",
   "execution_count": null,
   "metadata": {},
   "outputs": [],
   "source": [
    "centers = k_means.cluster_centers_\n",
    "centers_df = pd.DataFrame(centers)"
   ]
  },
  {
   "cell_type": "code",
   "execution_count": null,
   "metadata": {},
   "outputs": [],
   "source": [
    "# plt.figure(figsize=(10,10))\n",
    "plt.scatter(X,Y, c='black', label='data')\n",
    "plt.scatter(centers_df[0], centers_df[1], c='blue', label='center')\n",
    "plt.legend()"
   ]
  },
  {
   "cell_type": "code",
   "execution_count": null,
   "metadata": {},
   "outputs": [],
   "source": [
    "display(k_means.labels_)\n",
    "y_pred"
   ]
  },
  {
   "cell_type": "code",
   "execution_count": null,
   "metadata": {},
   "outputs": [],
   "source": [
    "cluster_df['Cluster'] = y_pred"
   ]
  },
  {
   "cell_type": "code",
   "execution_count": null,
   "metadata": {},
   "outputs": [],
   "source": [
    "cluster_df"
   ]
  },
  {
   "cell_type": "code",
   "execution_count": null,
   "metadata": {},
   "outputs": [],
   "source": [
    "cluster0_df = cluster_df[cluster_df['Cluster'] == 0]\n",
    "cluster1_df = cluster_df[cluster_df['Cluster'] ==1]\n",
    "cluster2_df = cluster_df[cluster_df['Cluster'] == 2]"
   ]
  },
  {
   "cell_type": "code",
   "execution_count": null,
   "metadata": {},
   "outputs": [],
   "source": [
    "plt.scatter(cluster0_df['X'],cluster0_df['Y'], label=\"cluster0\", c='blue')\n",
    "plt.scatter(cluster1_df['X'],cluster1_df['Y'], label=\"cluster1\", c='red')\n",
    "plt.scatter(cluster2_df['X'],cluster2_df['Y'], label=\"cluster2\", c='green')\n",
    "plt.legend(loc='upper left')"
   ]
  },
  {
   "cell_type": "code",
   "execution_count": null,
   "metadata": {},
   "outputs": [],
   "source": []
  }
 ],
 "metadata": {
  "kernelspec": {
   "display_name": "Python 3",
   "language": "python",
   "name": "python3"
  },
  "language_info": {
   "codemirror_mode": {
    "name": "ipython",
    "version": 3
   },
   "file_extension": ".py",
   "mimetype": "text/x-python",
   "name": "python",
   "nbconvert_exporter": "python",
   "pygments_lexer": "ipython3",
   "version": "3.7.3"
  }
 },
 "nbformat": 4,
 "nbformat_minor": 2
}
