{
 "cells": [
  {
   "cell_type": "markdown",
   "metadata": {},
   "source": [
    "# 準備"
   ]
  },
  {
   "cell_type": "code",
   "execution_count": 3,
   "metadata": {},
   "outputs": [],
   "source": [
    "from janome.tokenizer import Tokenizer"
   ]
  },
  {
   "cell_type": "code",
   "execution_count": 5,
   "metadata": {},
   "outputs": [],
   "source": [
    "t = Tokenizer()\n",
    "# Word2Vec :   https://www.excellence-blog.com/2018/05/06/word2vec-%E5%8D%98%E8%AA%9E%E3%81%AE%E3%83%99%E3%82%AF%E3%83%88%E3%83%AB%E8%A1%A8%E7%8F%BE/"
   ]
  },
  {
   "cell_type": "markdown",
   "metadata": {},
   "source": [
    "# インスタンス変数"
   ]
  },
  {
   "cell_type": "code",
   "execution_count": 6,
   "metadata": {},
   "outputs": [
    {
     "name": "stdout",
     "output_type": "stream",
     "text": [
      "表層系>  吾輩\n",
      "活用形>  *\n",
      "活用形>  *\n",
      "品詞    >  名詞,代名詞,一般,*\n",
      "基本形>  吾輩\n",
      "読み   > ワガハイ\n",
      "発音   > ワガハイ\n",
      "----\n",
      "表層系>  は\n",
      "活用形>  *\n",
      "活用形>  *\n",
      "品詞    >  助詞,係助詞,*,*\n",
      "基本形>  は\n",
      "読み   > ハ\n",
      "発音   > ワ\n",
      "----\n",
      "表層系>  猫\n",
      "活用形>  *\n",
      "活用形>  *\n",
      "品詞    >  名詞,一般,*,*\n",
      "基本形>  猫\n",
      "読み   > ネコ\n",
      "発音   > ネコ\n",
      "----\n",
      "表層系>  で\n",
      "活用形>  特殊・ダ\n",
      "活用形>  連用形\n",
      "品詞    >  助動詞,*,*,*\n",
      "基本形>  だ\n",
      "読み   > デ\n",
      "発音   > デ\n",
      "----\n",
      "表層系>  ある\n",
      "活用形>  五段・ラ行アル\n",
      "活用形>  基本形\n",
      "品詞    >  助動詞,*,*,*\n",
      "基本形>  ある\n",
      "読み   > アル\n",
      "発音   > アル\n",
      "----\n",
      "表層系>  。\n",
      "活用形>  *\n",
      "活用形>  *\n",
      "品詞    >  記号,句点,*,*\n",
      "基本形>  。\n",
      "読み   > 。\n",
      "発音   > 。\n",
      "----\n"
     ]
    }
   ],
   "source": [
    "for token in t.tokenize('吾輩は猫である。'):\n",
    "    print('表層系> ', token.surface)\n",
    "    print('活用形> ', token.infl_type)\n",
    "    print('活用形> ', token.infl_form)\n",
    "    print('品詞    > ',token.part_of_speech) \n",
    "    print('基本形> ', token.base_form) # 単語の原型\n",
    "    print('読み   >', token.reading)\n",
    "    print('発音   >', token.phonetic)\n",
    "    print('----')"
   ]
  },
  {
   "cell_type": "markdown",
   "metadata": {},
   "source": [
    "# 品詞の取得"
   ]
  },
  {
   "cell_type": "code",
   "execution_count": 27,
   "metadata": {},
   "outputs": [
    {
     "name": "stdout",
     "output_type": "stream",
     "text": [
      "名詞\n",
      "代名詞\n",
      "一般\n",
      "*\n",
      "----\n",
      "助詞\n",
      "係助詞\n",
      "*\n",
      "*\n",
      "----\n",
      "名詞\n",
      "一般\n",
      "*\n",
      "*\n",
      "----\n",
      "助動詞\n",
      "*\n",
      "*\n",
      "*\n",
      "----\n",
      "助動詞\n",
      "*\n",
      "*\n",
      "*\n",
      "----\n",
      "記号\n",
      "句点\n",
      "*\n",
      "*\n",
      "----\n"
     ]
    }
   ],
   "source": [
    "for token in t.tokenize('吾輩は猫である。'):\n",
    "    for one_part_of_speech in token.part_of_speech.split(','):\n",
    "        print(one_part_of_speech) \n",
    "    print('----')"
   ]
  },
  {
   "cell_type": "code",
   "execution_count": null,
   "metadata": {},
   "outputs": [],
   "source": []
  }
 ],
 "metadata": {
  "kernelspec": {
   "display_name": "Python 3",
   "language": "python",
   "name": "python3"
  },
  "language_info": {
   "codemirror_mode": {
    "name": "ipython",
    "version": 3
   },
   "file_extension": ".py",
   "mimetype": "text/x-python",
   "name": "python",
   "nbconvert_exporter": "python",
   "pygments_lexer": "ipython3",
   "version": "3.7.3"
  }
 },
 "nbformat": 4,
 "nbformat_minor": 2
}
