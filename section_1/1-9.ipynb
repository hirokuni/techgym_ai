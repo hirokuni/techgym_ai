{
 "cells": [
  {
   "cell_type": "markdown",
   "metadata": {},
   "source": []
  },
  {
   "cell_type": "code",
   "execution_count": 1,
   "metadata": {},
   "outputs": [],
   "source": [
    "from gensim.models import Word2Vec"
   ]
  },
  {
   "cell_type": "code",
   "execution_count": 2,
   "metadata": {},
   "outputs": [],
   "source": [
    "sentences = [[\"猫\", \"鳴く\", \"にゃー\"], [\"犬\", \"鳴く\", \"わんわん\"]]"
   ]
  },
  {
   "cell_type": "code",
   "execution_count": 3,
   "metadata": {},
   "outputs": [],
   "source": [
    "model = Word2Vec(sentences, min_count=1)"
   ]
  },
  {
   "cell_type": "code",
   "execution_count": 4,
   "metadata": {},
   "outputs": [],
   "source": [
    "vector = model.wv['猫']"
   ]
  },
  {
   "cell_type": "code",
   "execution_count": 7,
   "metadata": {},
   "outputs": [
    {
     "name": "stdout",
     "output_type": "stream",
     "text": [
      "(100,)\n",
      "[-2.5917178e-03 -2.8289584e-03 -9.7382080e-04  2.6229983e-03\n",
      " -1.1498833e-03  4.5085279e-03  9.3324698e-04 -2.7823353e-03\n",
      "  1.7926891e-03 -2.0437776e-03 -2.5401940e-04 -3.0097880e-03\n",
      "  4.1326466e-03  3.3860181e-03  2.1536560e-04  4.0864907e-03\n",
      "  4.4224663e-03 -4.7096810e-03 -3.9242781e-03 -4.6719080e-03\n",
      "  3.3315290e-03  4.1469620e-03  4.2931591e-03  2.5254693e-03\n",
      "  2.5288928e-03 -2.2909660e-03  4.7449912e-03  2.7506950e-03\n",
      "  2.1471055e-03  2.5879845e-03  2.9275687e-03  2.8392023e-03\n",
      " -3.3436208e-03  4.4812569e-03  2.4593775e-03 -4.5265625e-03\n",
      " -1.4350591e-04 -3.0564837e-04  3.6111032e-03 -3.9117126e-04\n",
      " -2.9253336e-03  1.6094053e-03  1.2648237e-03  9.7670907e-04\n",
      " -1.6812744e-04  3.3162464e-03  3.8612843e-03  1.8099160e-03\n",
      " -2.3240019e-03 -2.6693507e-03  2.4679899e-03  4.6316991e-03\n",
      " -4.4180579e-03 -4.6998239e-03 -1.0777984e-03  2.4532408e-03\n",
      "  2.1883673e-03 -1.6309912e-03  2.3818335e-03 -2.6728951e-03\n",
      "  4.4078473e-03 -4.6040464e-04 -4.3877978e-03 -3.6057248e-03\n",
      "  2.2512309e-03  2.6375477e-03 -3.3911916e-03 -1.5641975e-03\n",
      "  1.4005746e-03 -4.9379305e-03 -1.8937378e-03 -4.0282658e-03\n",
      "  7.9306687e-04  5.4341357e-04  1.6744590e-03  2.7408777e-04\n",
      " -3.4855744e-03  2.0976699e-04  3.1182778e-04  3.2472375e-03\n",
      " -4.2064795e-03  2.6003911e-05  2.8629275e-03  2.1503118e-03\n",
      "  2.0780810e-03  4.6145613e-03  1.8789200e-04  4.6726102e-03\n",
      "  2.5186136e-03  4.8737270e-03  3.5433457e-03  2.7864031e-03\n",
      " -4.3208874e-03  3.8619582e-03 -3.7715279e-03 -9.6255849e-04\n",
      "  1.6249859e-04 -2.1032531e-04 -9.9741109e-04 -4.5449780e-03]\n"
     ]
    }
   ],
   "source": [
    "print(vector.shape)\n",
    "print(vector)"
   ]
  },
  {
   "cell_type": "code",
   "execution_count": 8,
   "metadata": {},
   "outputs": [
    {
     "data": {
      "text/plain": [
       "[('わんわん', 0.08749143779277802),\n",
       " ('犬', 0.04478122293949127),\n",
       " ('鳴く', 0.04183993488550186),\n",
       " ('にゃー', -0.17823612689971924)]"
      ]
     },
     "execution_count": 8,
     "metadata": {},
     "output_type": "execute_result"
    }
   ],
   "source": [
    "model.wv.most_similar(positive=['猫'])"
   ]
  },
  {
   "cell_type": "code",
   "execution_count": 23,
   "metadata": {},
   "outputs": [],
   "source": [
    "import numpy as np\n",
    "inner = np.dot(model.wv['犬'], model.wv['猫'])"
   ]
  },
  {
   "cell_type": "code",
   "execution_count": 24,
   "metadata": {},
   "outputs": [],
   "source": [
    "norm = np.linalg.norm(model.wv['犬'])*np.linalg.norm(model.wv['猫'])"
   ]
  },
  {
   "cell_type": "code",
   "execution_count": 25,
   "metadata": {},
   "outputs": [
    {
     "name": "stdout",
     "output_type": "stream",
     "text": [
      "コサイン類似度:  0.044781227\n"
     ]
    }
   ],
   "source": [
    "print('コサイン類似度: ', inner/norm)"
   ]
  },
  {
   "cell_type": "code",
   "execution_count": 26,
   "metadata": {},
   "outputs": [
    {
     "name": "stdout",
     "output_type": "stream",
     "text": [
      "n_simirarity 0.04478123\n"
     ]
    }
   ],
   "source": [
    "print('n_simirarity', model.wv.n_similarity(['犬'],['猫']))"
   ]
  },
  {
   "cell_type": "code",
   "execution_count": null,
   "metadata": {},
   "outputs": [],
   "source": []
  }
 ],
 "metadata": {
  "kernelspec": {
   "display_name": "Python 3",
   "language": "python",
   "name": "python3"
  },
  "language_info": {
   "codemirror_mode": {
    "name": "ipython",
    "version": 3
   },
   "file_extension": ".py",
   "mimetype": "text/x-python",
   "name": "python",
   "nbconvert_exporter": "python",
   "pygments_lexer": "ipython3",
   "version": "3.7.3"
  }
 },
 "nbformat": 4,
 "nbformat_minor": 2
}
