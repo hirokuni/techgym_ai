{
 "cells": [
  {
   "cell_type": "code",
   "execution_count": 1,
   "metadata": {},
   "outputs": [],
   "source": [
    "import numpy as np\n",
    "from janome.tokenizer import Tokenizer"
   ]
  },
  {
   "cell_type": "code",
   "execution_count": 2,
   "metadata": {},
   "outputs": [],
   "source": [
    "word_list = []\n",
    "t = Tokenizer()\n",
    "for token in t.tokenize(u'すもももももももものうち。', wakati=True):\n",
    "    word_list.append(token)"
   ]
  },
  {
   "cell_type": "code",
   "execution_count": 3,
   "metadata": {},
   "outputs": [],
   "source": [
    "def  linkToId(word):\n",
    "    word_to_id = {}\n",
    "    id_to_word = {}\n",
    "    t = Tokenizer()\n",
    "    for i, token in enumerate(t.tokenize(word, wakati=True)):\n",
    "        word_to_id[i]=  token\n",
    "        id_to_word[token]= i\n",
    "    return {\"word_to_id\": word_to_id, \"id_to_word\": id_to_word}\n",
    "\n",
    "def  preprocess(word):\n",
    "    word_to_id = {}\n",
    "    id_to_word = {}\n",
    "    t = Tokenizer()\n",
    "    words = t.tokenize(word, wakati=True)\n",
    "    for token in words:\n",
    "        if token not in word_to_id:\n",
    "            new_id = len(word_to_id)\n",
    "            word_to_id[token]=  new_id\n",
    "            id_to_word[new_id]= token\n",
    "    corpus = np.array([word_to_id[w] for w in words])\n",
    "    return  corpus, word_to_id, id_to_word"
   ]
  },
  {
   "cell_type": "code",
   "execution_count": 4,
   "metadata": {},
   "outputs": [
    {
     "name": "stdout",
     "output_type": "stream",
     "text": [
      "cropus:  [0 1 2 1 2 3 4 5]\n",
      "word_to_id:  {'すもも': 0, 'も': 1, 'もも': 2, 'の': 3, 'うち': 4, '。': 5}\n",
      "id_to_word:  {0: 'すもも', 1: 'も', 2: 'もも', 3: 'の', 4: 'うち', 5: '。'}\n"
     ]
    }
   ],
   "source": [
    "words = linkToId('すもももももももものうち。')\n",
    "corpus, word_to_id, id_to_word = preprocess('すもももももももものうち。')\n",
    "print('cropus: ', corpus)\n",
    "print('word_to_id: ', word_to_id)\n",
    "print('id_to_word: ', id_to_word)"
   ]
  },
  {
   "cell_type": "code",
   "execution_count": 5,
   "metadata": {},
   "outputs": [
    {
     "name": "stdout",
     "output_type": "stream",
     "text": [
      "{'すもも': 0, 'も': 1, 'もも': 2, 'の': 3, 'うち': 4, '。': 5}\n",
      "{0: 'すもも', 1: 'も', 2: 'もも', 3: 'の', 4: 'うち', 5: '。'}\n"
     ]
    }
   ],
   "source": [
    "print(word_to_id)\n",
    "print(id_to_word)"
   ]
  },
  {
   "cell_type": "code",
   "execution_count": 6,
   "metadata": {},
   "outputs": [],
   "source": [
    "# format(10, 'b')\n",
    "# def convert_word_to_one_hot(word):"
   ]
  },
  {
   "cell_type": "code",
   "execution_count": 7,
   "metadata": {},
   "outputs": [],
   "source": [
    "class MatMul:\n",
    "    def __init__(self, W):\n",
    "        self.params = [W]\n",
    "        self.grads = [np.zeros_like(W)]\n",
    "        self.x = None\n",
    "\n",
    "    def forward(self, x):\n",
    "        W, = self.params\n",
    "        out = np.dot(x, W)\n",
    "        self.x = x\n",
    "        return out\n",
    "\n",
    "    def backward(self, dout):\n",
    "        W, = self.params\n",
    "        dx = np.dot(dout, W.T)\n",
    "        dW = np.dot(self.x.T, dout)\n",
    "        self.grads[0][...] = dW\n",
    "        return dx"
   ]
  },
  {
   "cell_type": "code",
   "execution_count": 8,
   "metadata": {},
   "outputs": [
    {
     "data": {
      "text/plain": [
       "array([ 0.69700952, -1.11975708, -0.4094464 ])"
      ]
     },
     "execution_count": 8,
     "metadata": {},
     "output_type": "execute_result"
    }
   ],
   "source": [
    "c = np.array([1,0,0,0,0,0,0])\n",
    "W = np.random.randn(7,3)\n",
    "layer = MatMul(W)\n",
    "h = layer.forward(c)\n",
    "h"
   ]
  },
  {
   "cell_type": "code",
   "execution_count": null,
   "metadata": {},
   "outputs": [],
   "source": []
  },
  {
   "cell_type": "code",
   "execution_count": null,
   "metadata": {},
   "outputs": [],
   "source": []
  },
  {
   "cell_type": "markdown",
   "metadata": {},
   "source": [
    "# "
   ]
  }
 ],
 "metadata": {
  "kernelspec": {
   "display_name": "Python 3",
   "language": "python",
   "name": "python3"
  },
  "language_info": {
   "codemirror_mode": {
    "name": "ipython",
    "version": 3
   },
   "file_extension": ".py",
   "mimetype": "text/x-python",
   "name": "python",
   "nbconvert_exporter": "python",
   "pygments_lexer": "ipython3",
   "version": "3.7.3"
  }
 },
 "nbformat": 4,
 "nbformat_minor": 2
}
